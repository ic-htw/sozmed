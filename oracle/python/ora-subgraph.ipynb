{
 "cells": [
  {
   "cell_type": "code",
   "execution_count": 1,
   "metadata": {},
   "outputs": [],
   "source": [
    "import pandas as pd\n",
    "from sqlalchemy import create_engine, text\n",
    "import oracledb\n",
    "import cred_ora as c"
   ]
  },
  {
   "cell_type": "code",
   "execution_count": 2,
   "metadata": {},
   "outputs": [],
   "source": [
    "engine = create_engine(\n",
    "    f\"oracle+oracledb://{c.ora_userid}:{c.ora_password}@{c.ora_dsn}\", \n",
    "    pool_size=1, \n",
    "    max_overflow=0,\n",
    ")\n",
    "\n",
    "with engine.connect() as con:\n",
    "    con.execute(text(\"alter session set current_schema=usozmed\"))"
   ]
  },
  {
   "cell_type": "code",
   "execution_count": 3,
   "metadata": {},
   "outputs": [],
   "source": [
    "def exe(sql):\n",
    "    with engine.connect() as con:\n",
    "        return pd.read_sql_query(text(sql), con)"
   ]
  },
  {
   "cell_type": "code",
   "execution_count": 6,
   "metadata": {},
   "outputs": [
    {
     "data": {
      "text/html": [
       "<div>\n",
       "<style scoped>\n",
       "    .dataframe tbody tr th:only-of-type {\n",
       "        vertical-align: middle;\n",
       "    }\n",
       "\n",
       "    .dataframe tbody tr th {\n",
       "        vertical-align: top;\n",
       "    }\n",
       "\n",
       "    .dataframe thead th {\n",
       "        text-align: right;\n",
       "    }\n",
       "</style>\n",
       "<table border=\"1\" class=\"dataframe\">\n",
       "  <thead>\n",
       "    <tr style=\"text-align: right;\">\n",
       "      <th></th>\n",
       "      <th>COUNT(*)</th>\n",
       "    </tr>\n",
       "  </thead>\n",
       "  <tbody>\n",
       "    <tr>\n",
       "      <th>0</th>\n",
       "      <td>155615588</td>\n",
       "    </tr>\n",
       "  </tbody>\n",
       "</table>\n",
       "</div>"
      ],
      "text/plain": [
       "    COUNT(*)\n",
       "0  155615588"
      ]
     },
     "execution_count": 6,
     "metadata": {},
     "output_type": "execute_result"
    }
   ],
   "source": [
    "sql = \"\"\"\n",
    "select count(*)\n",
    "from \n",
    "  country co\n",
    "  join city ci on ci.partofcountryid = co.id\n",
    "  join person p on p.locationcityid = ci.id\n",
    "  join forum_hasmember_person hasmember on hasmember.personid = p.id\n",
    "  join forum f on f.id = hasmember.forumid\n",
    "  join message post on post.containerforumid = f.id\n",
    "  join message comment1 on comment1.parentmessageid = post.id\n",
    "  join message_hastag_tag hastag on hastag.messageid = comment1.id\n",
    "  join tag on tag.id = hastag.tagid\n",
    "  join tagclass on tagclass.id = tag.typetagclassid\n",
    "\"\"\"\n",
    "exe(sql) # 10-11 sec"
   ]
  }
 ],
 "metadata": {
  "kernelspec": {
   "display_name": "base",
   "language": "python",
   "name": "python3"
  },
  "language_info": {
   "codemirror_mode": {
    "name": "ipython",
    "version": 3
   },
   "file_extension": ".py",
   "mimetype": "text/x-python",
   "name": "python",
   "nbconvert_exporter": "python",
   "pygments_lexer": "ipython3",
   "version": "3.10.10"
  },
  "orig_nbformat": 4
 },
 "nbformat": 4,
 "nbformat_minor": 2
}
