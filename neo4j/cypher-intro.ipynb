{
 "cells": [
  {
   "cell_type": "code",
   "execution_count": 3,
   "metadata": {},
   "outputs": [],
   "source": [
    "from neo4j import GraphDatabase\n",
    "from yfiles_jupyter_graphs import GraphWidget\n",
    "import cred_neo4j as c"
   ]
  },
  {
   "cell_type": "code",
   "execution_count": 4,
   "metadata": {},
   "outputs": [],
   "source": [
    "driver = GraphDatabase.driver(c.neo4j_host, auth=(c.neo4j_userid, c.neo4j_password)) "
   ]
  },
  {
   "cell_type": "code",
   "execution_count": 6,
   "metadata": {},
   "outputs": [
    {
     "data": {
      "text/plain": [
       "<neo4j.graph.Graph at 0x233adb8aef0>"
      ]
     },
     "execution_count": 6,
     "metadata": {},
     "output_type": "execute_result"
    }
   ],
   "source": [
    "q = \"\"\"\n",
    "match \n",
    "  (p1:Person)-[r:KNOWS]->(p2:Person) \n",
    "return p1, r, p2\n",
    "limit 5\n",
    "\"\"\"\n",
    "with driver.session() as session:\n",
    "    g = session.run(q).graph()\n",
    "g\n"
   ]
  },
  {
   "cell_type": "code",
   "execution_count": 8,
   "metadata": {},
   "outputs": [],
   "source": [
    "w = GraphWidget(graph = g)"
   ]
  },
  {
   "cell_type": "code",
   "execution_count": 9,
   "metadata": {},
   "outputs": [
    {
     "data": {
      "application/vnd.jupyter.widget-view+json": {
       "model_id": "08d3294a833a47f2b88ba68b17b1850c",
       "version_major": 2,
       "version_minor": 0
      },
      "text/plain": [
       "GraphWidget(layout=Layout(height='500px', width='100%'))"
      ]
     },
     "metadata": {},
     "output_type": "display_data"
    }
   ],
   "source": [
    "w.show()"
   ]
  },
  {
   "cell_type": "code",
   "execution_count": 11,
   "metadata": {},
   "outputs": [
    {
     "data": {
      "application/vnd.jupyter.widget-view+json": {
       "model_id": "15aef5a5cba94b2d8b59d4a2a80951b8",
       "version_major": 2,
       "version_minor": 0
      },
      "text/plain": [
       "GraphWidget(layout=Layout(height='500px', width='100%'))"
      ]
     },
     "metadata": {},
     "output_type": "display_data"
    }
   ],
   "source": [
    "w2 = GraphWidget(graph = g)\n",
    "\n",
    "def custom_node_label_mapping(index, node):\n",
    "    \"\"\"let the label be the negated index\"\"\"\n",
    "    properties = node.get('properties', {})\n",
    "    return properties.get('title', properties.get('lastName', 'no label'));\n",
    "w2.node_label_mapping = custom_node_label_mapping\n",
    "\n",
    "def custom_relationship_label_mapping(index, node):\n",
    "    \"\"\"let the label be the negated index\"\"\"\n",
    "    properties = node.get('properties', {})\n",
    "    return properties.get('roles', ['no role'])[0];\n",
    "# w2.edge_label_mapping = custom_relationship_label_mapping\n",
    "\n",
    "# w2.hierarchic_layout()\n",
    "w2.show()"
   ]
  }
 ],
 "metadata": {
  "kernelspec": {
   "display_name": "base",
   "language": "python",
   "name": "python3"
  },
  "language_info": {
   "codemirror_mode": {
    "name": "ipython",
    "version": 3
   },
   "file_extension": ".py",
   "mimetype": "text/x-python",
   "name": "python",
   "nbconvert_exporter": "python",
   "pygments_lexer": "ipython3",
   "version": "3.10.10"
  },
  "orig_nbformat": 4
 },
 "nbformat": 4,
 "nbformat_minor": 2
}
