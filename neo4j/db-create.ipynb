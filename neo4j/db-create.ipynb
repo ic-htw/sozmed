{
 "cells": [
  {
   "cell_type": "code",
   "execution_count": 1,
   "metadata": {},
   "outputs": [],
   "source": [
    "from neo4j import GraphDatabase\n",
    "import cred_neo4j as c"
   ]
  },
  {
   "cell_type": "code",
   "execution_count": 6,
   "metadata": {},
   "outputs": [],
   "source": [
    "def exe1(driver, *qs):\n",
    "    pass\n",
    "    # exe(driver, *qs)\n",
    "    \n",
    "def exe2(driver, *qs):\n",
    "    # pass\n",
    "    exe(driver, *qs)\n",
    "    \n",
    "def exe(driver, *qs):\n",
    "    with driver.session() as session:\n",
    "        for q in qs:\n",
    "          session.run(q)"
   ]
  },
  {
   "cell_type": "code",
   "execution_count": 4,
   "metadata": {},
   "outputs": [],
   "source": [
    "driver = GraphDatabase.driver(c.neo4j_host, auth=(c.neo4j_userid, c.neo4j_password)) "
   ]
  },
  {
   "cell_type": "code",
   "execution_count": 7,
   "metadata": {},
   "outputs": [
    {
     "name": "stdout",
     "output_type": "stream",
     "text": [
      "01 TagClass\n"
     ]
    }
   ],
   "source": [
    "# -------------------------------------------------\n",
    "# 01 TagClass\n",
    "# -------------------------------------------------\n",
    "print(\"01 TagClass\")\n",
    "q1 = f\"\"\"\n",
    "DROP CONSTRAINT c_tagclass;\n",
    "\"\"\"\n",
    "    \n",
    "q2 = f\"\"\"\n",
    "MATCH (x:TagClass) DETACH DELETE x;\n",
    "\"\"\"\n",
    "q3 = f\"\"\"\n",
    "LOAD CSV WITH HEADERS FROM 'file:///sozmed/TagClass.csv' AS r FIELDTERMINATOR '|'\n",
    "CALL {{\n",
    "  WITH r\n",
    "  CREATE (x:TagClass {{\n",
    "    id: toInteger(r.id), \n",
    "    name: r.name,\n",
    "    url: r.url\n",
    "    }})\n",
    "}} IN TRANSACTIONS OF 100000 ROWS;\n",
    "\"\"\"\n",
    "q4 = f\"\"\"\n",
    "CREATE CONSTRAINT c_tagclass FOR (x:TagClass) REQUIRE x.id IS UNIQUE;\n",
    "\"\"\"\n",
    "exe1(driver, q1, q2)  \n",
    "exe2(driver, q3, q4)  "
   ]
  },
  {
   "cell_type": "code",
   "execution_count": 8,
   "metadata": {},
   "outputs": [
    {
     "name": "stdout",
     "output_type": "stream",
     "text": [
      "02 Tag\n"
     ]
    }
   ],
   "source": [
    "# -------------------------------------------------\n",
    "# 02 Tag\n",
    "# -------------------------------------------------\n",
    "print(\"02 Tag\")\n",
    "q1 = f\"\"\"\n",
    "DROP CONSTRAINT c_tag;\n",
    "\"\"\"\n",
    "q2 = f\"\"\"\n",
    "MATCH (x:Tag) DETACH DELETE x;\n",
    "\"\"\"\n",
    "q3 = f\"\"\"\n",
    "LOAD CSV WITH HEADERS FROM 'file:///sozmed/Tag.csv' AS r FIELDTERMINATOR '|'\n",
    "CALL {{\n",
    "  WITH r\n",
    "  CREATE (x:Tag {{\n",
    "    id: toInteger(r.id), \n",
    "    name: r.name,\n",
    "    url: r.url\n",
    "    }})\n",
    "}} IN TRANSACTIONS OF 100000 ROWS;\n",
    "\"\"\"\n",
    "q4 = f\"\"\"\n",
    "CREATE CONSTRAINT c_tag FOR (x:Tag) REQUIRE x.id IS UNIQUE;\n",
    "\"\"\"\n",
    "exe1(driver, q1, q2)  \n",
    "exe2(driver, q3, q4)  "
   ]
  },
  {
   "cell_type": "code",
   "execution_count": 9,
   "metadata": {},
   "outputs": [
    {
     "name": "stdout",
     "output_type": "stream",
     "text": [
      "03 Country\n"
     ]
    }
   ],
   "source": [
    "# -------------------------------------------------\n",
    "# 03 Country\n",
    "# -------------------------------------------------\n",
    "print(\"03 Country\")\n",
    "q1 = f\"\"\"\n",
    "DROP CONSTRAINT c_Country;\n",
    "\"\"\"\n",
    "q2 = f\"\"\"\n",
    "MATCH (x:Country) DETACH DELETE x;\n",
    "\"\"\"\n",
    "q3 = f\"\"\"\n",
    "LOAD CSV WITH HEADERS FROM 'file:///sozmed/Country.csv' AS r FIELDTERMINATOR '|'\n",
    "CALL {{\n",
    "  WITH r\n",
    "  CREATE (x:Country {{\n",
    "    id: toInteger(r.id), \n",
    "    name: r.name,\n",
    "    url: r.url\n",
    "    }})\n",
    "}} IN TRANSACTIONS OF 100000 ROWS;\n",
    "\"\"\"\n",
    "q4 = f\"\"\"\n",
    "CREATE CONSTRAINT c_Country FOR (x:Country) REQUIRE x.id IS UNIQUE;\n",
    "\"\"\"\n",
    "exe1(driver, q1, q2)  \n",
    "exe2(driver, q3, q4)  "
   ]
  },
  {
   "cell_type": "code",
   "execution_count": 10,
   "metadata": {},
   "outputs": [
    {
     "name": "stdout",
     "output_type": "stream",
     "text": [
      "04 City\n"
     ]
    }
   ],
   "source": [
    "# -------------------------------------------------\n",
    "# 04 City\n",
    "# -------------------------------------------------\n",
    "print(\"04 City\")\n",
    "q1 = f\"\"\"\n",
    "DROP CONSTRAINT c_City;\n",
    "\"\"\"\n",
    "q2 = f\"\"\"\n",
    "MATCH (x:City) DETACH DELETE x;\n",
    "\"\"\"\n",
    "q3 = f\"\"\"\n",
    "LOAD CSV WITH HEADERS FROM 'file:///sozmed/City.csv' AS r FIELDTERMINATOR '|'\n",
    "CALL {{\n",
    "  WITH r\n",
    "  CREATE (x:City {{\n",
    "    id: toInteger(r.id), \n",
    "    name: r.name,\n",
    "    url: r.url\n",
    "    }})\n",
    "}} IN TRANSACTIONS OF 100000 ROWS;\n",
    "\"\"\"\n",
    "q4 = f\"\"\"\n",
    "CREATE CONSTRAINT c_City FOR (x:City) REQUIRE x.id IS UNIQUE;\n",
    "\"\"\"\n",
    "exe1(driver, q1, q2)  \n",
    "exe2(driver, q3, q4)  "
   ]
  },
  {
   "cell_type": "code",
   "execution_count": 11,
   "metadata": {},
   "outputs": [
    {
     "name": "stdout",
     "output_type": "stream",
     "text": [
      "05 Company\n"
     ]
    }
   ],
   "source": [
    "# -------------------------------------------------\n",
    "# 05 Company\n",
    "# -------------------------------------------------\n",
    "print(\"05 Company\")\n",
    "q1 = f\"\"\"\n",
    "DROP CONSTRAINT c_Company;\n",
    "\"\"\"\n",
    "q2 = f\"\"\"\n",
    "MATCH (x:Company) DETACH DELETE x;\n",
    "\"\"\"\n",
    "q3 = f\"\"\"\n",
    "LOAD CSV WITH HEADERS FROM 'file:///sozmed/Company.csv' AS r FIELDTERMINATOR '|'\n",
    "CALL {{\n",
    "  WITH r\n",
    "  CREATE (x:Company {{\n",
    "    id: toInteger(r.id), \n",
    "    name: r.name,\n",
    "    url: r.url\n",
    "    }})\n",
    "}} IN TRANSACTIONS OF 100000 ROWS;\n",
    "\"\"\"\n",
    "q4 = f\"\"\"\n",
    "CREATE CONSTRAINT c_Company FOR (x:Company) REQUIRE x.id IS UNIQUE;\n",
    "\"\"\"\n",
    "exe1(driver, q1, q2)  \n",
    "exe2(driver, q3, q4)  "
   ]
  },
  {
   "cell_type": "code",
   "execution_count": 12,
   "metadata": {},
   "outputs": [
    {
     "name": "stdout",
     "output_type": "stream",
     "text": [
      "06 University\n"
     ]
    }
   ],
   "source": [
    "# -------------------------------------------------\n",
    "# 06 University\n",
    "# -------------------------------------------------\n",
    "print(\"06 University\")\n",
    "q1 = f\"\"\"\n",
    "DROP CONSTRAINT c_University;\n",
    "\"\"\"\n",
    "q2 = f\"\"\"\n",
    "MATCH (x:University) DETACH DELETE x;\n",
    "\"\"\"\n",
    "q3 = f\"\"\"\n",
    "LOAD CSV WITH HEADERS FROM 'file:///sozmed/University.csv' AS r FIELDTERMINATOR '|'\n",
    "CALL {{\n",
    "  WITH r\n",
    "  CREATE (x:University {{\n",
    "    id: toInteger(r.id), \n",
    "    name:r.name,\n",
    "    url: r.url\n",
    "    }})\n",
    "}} IN TRANSACTIONS OF 100000 ROWS;\n",
    "\"\"\"\n",
    "q4 = f\"\"\"\n",
    "CREATE CONSTRAINT c_University FOR (x:University) REQUIRE x.id IS UNIQUE;\n",
    "\"\"\"\n",
    "exe1(driver, q1, q2)  \n",
    "exe2(driver, q3, q4)  "
   ]
  },
  {
   "cell_type": "code",
   "execution_count": 13,
   "metadata": {},
   "outputs": [
    {
     "name": "stdout",
     "output_type": "stream",
     "text": [
      "07 Person\n"
     ]
    }
   ],
   "source": [
    "# -------------------------------------------------\n",
    "# 07 Person\n",
    "# -------------------------------------------------\n",
    "print(\"07 Person\")\n",
    "q1 = f\"\"\"\n",
    "DROP CONSTRAINT c_Person;\n",
    "\"\"\"\n",
    "q2 = f\"\"\"\n",
    "MATCH (x:Person) DETACH DELETE x;\n",
    "\"\"\"\n",
    "q3 = f\"\"\"\n",
    "LOAD CSV WITH HEADERS FROM 'file:///sozmed/Person.csv' AS r FIELDTERMINATOR '|'\n",
    "CALL {{\n",
    "  WITH r\n",
    "  CREATE (x:Person {{\n",
    "    id: toInteger(r.id), \n",
    "    firstName: r.firstName,\n",
    "    lastName: r.lastName, \n",
    "    gender: r.gender,\n",
    "    birthday: date(r.birthday),\n",
    "    locationIP: r.locationIP,\n",
    "    browserUsed: r.browserUsed,\n",
    "    speaks: r.speaks,\n",
    "    email: r.email,\n",
    "    creationDate: datetime(replace(r.creationDate, ' ', 'T'))\n",
    "    }})\n",
    "}} IN TRANSACTIONS OF 100000 ROWS;\n",
    "\"\"\"\n",
    "q4 = f\"\"\"\n",
    "CREATE CONSTRAINT c_Person FOR (x:Person) REQUIRE x.id IS UNIQUE;\n",
    "\"\"\"\n",
    "exe1(driver, q1, q2)  \n",
    "exe2(driver, q3, q4)  "
   ]
  },
  {
   "cell_type": "code",
   "execution_count": 14,
   "metadata": {},
   "outputs": [
    {
     "name": "stdout",
     "output_type": "stream",
     "text": [
      "08 Forum\n"
     ]
    }
   ],
   "source": [
    "# -------------------------------------------------\n",
    "# 08 Forum\n",
    "# -------------------------------------------------\n",
    "print(\"08 Forum\")\n",
    "q1 = f\"\"\"\n",
    "DROP CONSTRAINT c_Forum;\n",
    "\"\"\"\n",
    "q2 = f\"\"\"\n",
    "MATCH (x:Forum) DETACH DELETE x;\n",
    "\"\"\"\n",
    "q3 = f\"\"\"\n",
    "LOAD CSV WITH HEADERS FROM 'file:///sozmed/Forum.csv' AS r FIELDTERMINATOR '|'\n",
    "CALL {{\n",
    "  WITH r\n",
    "  CREATE (x:Forum {{\n",
    "    id: toInteger(r.id), \n",
    "    name: r.name, \n",
    "    creationDate: datetime(replace(r.creationDate, ' ', 'T'))\n",
    "    }})\n",
    "}} IN TRANSACTIONS OF 100000 ROWS;\n",
    "\"\"\"\n",
    "q4 = f\"\"\"\n",
    "CREATE CONSTRAINT c_Forum FOR (x:Forum) REQUIRE x.id IS UNIQUE;\n",
    "\"\"\"\n",
    "exe1(driver, q1, q2)  \n",
    "exe2(driver, q3, q4)  "
   ]
  },
  {
   "cell_type": "code",
   "execution_count": 15,
   "metadata": {},
   "outputs": [
    {
     "name": "stdout",
     "output_type": "stream",
     "text": [
      "09 Message\n"
     ]
    }
   ],
   "source": [
    "# -------------------------------------------------\n",
    "# 09 Message\n",
    "# -------------------------------------------------\n",
    "print(\"09 Message\")\n",
    "q1 = f\"\"\"\n",
    "DROP CONSTRAINT c_Message;\n",
    "\"\"\"\n",
    "q2 = f\"\"\"\n",
    "call apoc.periodic.iterate(\n",
    "  'MATCH (x:Message) return x', \n",
    "  'DETACH DELETE x', \n",
    "  {{batchSize:100000, batchMode:\"BATCH\"}}\n",
    ")\n",
    "\"\"\"\n",
    "q3 = f\"\"\"\n",
    "LOAD CSV WITH HEADERS FROM 'file:///sozmed/Message.csv' AS r FIELDTERMINATOR '|'\n",
    "CALL {{\n",
    "  WITH r\n",
    "  CREATE (x:Message {{\n",
    "    id: toInteger(r.id), \n",
    "    language: r.language,\n",
    "    content: r.content,\n",
    "    imageFile: r.imageFile,\n",
    "    locationIP: r.locationIP,\n",
    "    browserUsed: r.browserUsed,\n",
    "    length: toInteger(r.length),\n",
    "    ParentMessageId: toInteger(r.ParentMessageId), \n",
    "    creationDate: datetime(replace(r.creationDate, ' ', 'T'))\n",
    "    }})\n",
    "}} IN TRANSACTIONS OF 100000 ROWS;\n",
    "\"\"\"\n",
    "q4 = f\"\"\"\n",
    "CREATE CONSTRAINT c_Message FOR (x:Message) REQUIRE x.id IS UNIQUE;\n",
    "\"\"\"\n",
    "exe1(driver, q1, q2)  \n",
    "exe2(driver, q3, q4)  "
   ]
  },
  {
   "cell_type": "code",
   "execution_count": 16,
   "metadata": {},
   "outputs": [
    {
     "name": "stdout",
     "output_type": "stream",
     "text": [
      "09a Post\n",
      "09b Comment\n"
     ]
    }
   ],
   "source": [
    "# -------------------------------------------------\n",
    "# 09a Post\n",
    "# -------------------------------------------------\n",
    "print(\"09a Post\")\n",
    "q1 = f\"\"\"\n",
    "DROP CONSTRAINT c_Post;\n",
    "\"\"\"\n",
    "q2 = f\"\"\"\n",
    "MATCH (x:Message) where x.ParentMessageId is null set x:Post;\n",
    "\"\"\"\n",
    "q3 = f\"\"\"\n",
    "CREATE CONSTRAINT c_Post FOR (x:Post) REQUIRE x.id IS UNIQUE;\n",
    "\"\"\"\n",
    "exe1(driver, q1)  \n",
    "exe2(driver, q2, q3)  \n",
    "# -------------------------------------------------\n",
    "# 09b Comment\n",
    "# -------------------------------------------------\n",
    "print(\"09b Comment\")\n",
    "q1 = f\"\"\"\n",
    "DROP CONSTRAINT c_Comment;\n",
    "\"\"\"\n",
    "q2 = f\"\"\"\n",
    "MATCH (x:Message) where x.ParentMessageId is not null set x:Comment;\n",
    "\"\"\"\n",
    "q3 = f\"\"\"\n",
    "CREATE CONSTRAINT c_Comment FOR (x:Comment) REQUIRE x.id IS UNIQUE;\n",
    "\"\"\"\n",
    "exe1(driver, q1)  \n",
    "exe2(driver, q2, q3)  "
   ]
  },
  {
   "cell_type": "code",
   "execution_count": 17,
   "metadata": {},
   "outputs": [
    {
     "name": "stdout",
     "output_type": "stream",
     "text": [
      "10 IS_SUBCLASS_OF\n"
     ]
    }
   ],
   "source": [
    "# -------------------------------------------------\n",
    "# 10 IS_SUBCLASS_OF\n",
    "# -------------------------------------------------\n",
    "print(\"10 IS_SUBCLASS_OF\")\n",
    "q1 = f\"\"\"\n",
    "MATCH (x:TagClass)-[z:IS_SUBCLASS_OF]->(y:TagClass) DETACH DELETE z;\n",
    "\"\"\"\n",
    "q2 = f\"\"\"\n",
    "LOAD CSV WITH HEADERS FROM 'file:///sozmed/TagClass.csv' AS r FIELDTERMINATOR '|'\n",
    "CALL {{\n",
    "  WITH r\n",
    "  MATCH (x:TagClass {{id: toInteger(r.id)}})\n",
    "  MATCH (y:TagClass {{id: toInteger(r.SubclassOfTagClassId)}})\n",
    "  CREATE (x)-[:IS_SUBCLASS_OF]->(y)\n",
    "}} IN TRANSACTIONS OF 100000 ROWS;\n",
    "\"\"\"\n",
    "exe1(driver, q1)  \n",
    "exe2(driver, q2)  "
   ]
  },
  {
   "cell_type": "code",
   "execution_count": 18,
   "metadata": {},
   "outputs": [
    {
     "name": "stdout",
     "output_type": "stream",
     "text": [
      "11 HAS_TYPE\n"
     ]
    }
   ],
   "source": [
    "# -------------------------------------------------\n",
    "# 11 HAS_TYPE\n",
    "# -------------------------------------------------\n",
    "print(\"11 HAS_TYPE\")\n",
    "q1 = f\"\"\"\n",
    "MATCH (x:Tag)-[z:HAS_TYPE]->(y:TagClass) DETACH DELETE z;\n",
    "\"\"\"\n",
    "\n",
    "q2 = f\"\"\"\n",
    "  LOAD CSV WITH HEADERS FROM 'file:///sozmed/Tag.csv' AS r FIELDTERMINATOR '|'\n",
    "  CALL {{\n",
    "    WITH r\n",
    "    MATCH (x:Tag {{id: toInteger(r.id)}})\n",
    "    MATCH (y:TagClass {{id: toInteger(r.TypeTagClassId)}})\n",
    "    CREATE (x)-[:HAS_TYPE]->(y)\n",
    "  }} IN TRANSACTIONS OF 100000 ROWS;\n",
    "  \"\"\"\n",
    "\n",
    "exe1(driver, q1)  \n",
    "exe2(driver, q2)  "
   ]
  },
  {
   "cell_type": "code",
   "execution_count": 19,
   "metadata": {},
   "outputs": [
    {
     "name": "stdout",
     "output_type": "stream",
     "text": [
      "12 IS_PART_OF\n"
     ]
    }
   ],
   "source": [
    "# -------------------------------------------------\n",
    "# 12 IS_PART_OF\n",
    "# -------------------------------------------------\n",
    "print(\"12 IS_PART_OF\")\n",
    "q1 = f\"\"\"\n",
    "MATCH (x:City)-[z:IS_PART_OF]->(y:Country) DETACH DELETE z;\n",
    "\"\"\"\n",
    "q2 = f\"\"\"\n",
    "LOAD CSV WITH HEADERS FROM 'file:///sozmed/City.csv' AS r FIELDTERMINATOR '|'\n",
    "CALL {{\n",
    "  WITH r\n",
    "  MATCH (x:City {{id: toInteger(r.id)}})\n",
    "  MATCH (y:Country {{id: toInteger(r.PartOfCountryId)}})\n",
    "  CREATE (x)-[:IS_PART_OF]->(y)\n",
    "}} IN TRANSACTIONS OF 100000 ROWS;\n",
    "\"\"\"\n",
    "exe1(driver, q1)  \n",
    "exe2(driver, q2)  "
   ]
  },
  {
   "cell_type": "code",
   "execution_count": 20,
   "metadata": {},
   "outputs": [
    {
     "name": "stdout",
     "output_type": "stream",
     "text": [
      "13 IS_LOCATED_IN\n"
     ]
    }
   ],
   "source": [
    "# -------------------------------------------------\n",
    "# 13 IS_LOCATED_IN\n",
    "# -------------------------------------------------\n",
    "print(\"13 IS_LOCATED_IN\")\n",
    "q1 = f\"\"\"\n",
    "MATCH (x:Company)-[z:IS_LOCATED_IN]->(y:Country) DETACH DELETE z;\n",
    "\"\"\"\n",
    "q2 = f\"\"\"\n",
    "LOAD CSV WITH HEADERS FROM 'file:///sozmed/Company.csv' AS r FIELDTERMINATOR '|'\n",
    "CALL {{\n",
    "  WITH r\n",
    "  MATCH (x:Company {{id: toInteger(r.id)}})\n",
    "  MATCH (y:Country {{id: toInteger(r.LocationPlaceId)}})\n",
    "  CREATE (x)-[:IS_LOCATED_IN]->(y)\n",
    "}} IN TRANSACTIONS OF 100000 ROWS;\n",
    "\"\"\"\n",
    "exe1(driver, q1)  \n",
    "exe2(driver, q2)  "
   ]
  },
  {
   "cell_type": "code",
   "execution_count": 21,
   "metadata": {},
   "outputs": [
    {
     "name": "stdout",
     "output_type": "stream",
     "text": [
      "14 IS_LOCATED_IN\n",
      "15 IS_LOCATED_IN\n"
     ]
    }
   ],
   "source": [
    "# -------------------------------------------------\n",
    "# 14 IS_LOCATED_IN\n",
    "# -------------------------------------------------\n",
    "print(\"14 IS_LOCATED_IN\")\n",
    "q1 = f\"\"\"\n",
    "MATCH (x:University)-[z:IS_LOCATED_IN]->(y:City) DETACH DELETE z;\n",
    "\"\"\"\n",
    "q2 = f\"\"\"\n",
    "LOAD CSV WITH HEADERS FROM 'file:///sozmed/University.csv' AS r FIELDTERMINATOR '|'\n",
    "CALL {{\n",
    "  WITH r\n",
    "  MATCH (x:University {{id: toInteger(r.id)}})\n",
    "  MATCH (y:City {{id: toInteger(r.LocationPlaceId)}})\n",
    "  CREATE (x)-[:IS_LOCATED_IN]->(y)\n",
    "}} IN TRANSACTIONS OF 100000 ROWS;\n",
    "\"\"\"\n",
    "exe1(driver, q1)  \n",
    "exe2(driver, q2)  "
   ]
  },
  {
   "cell_type": "code",
   "execution_count": null,
   "metadata": {},
   "outputs": [],
   "source": [
    "# -------------------------------------------------\n",
    "# 15 IS_LOCATED_IN\n",
    "# -------------------------------------------------\n",
    "print(\"15 IS_LOCATED_IN\")\n",
    "q1 = f\"\"\"\n",
    "MATCH (x:Person)-[z:IS_LOCATED_IN]->(y:City) DETACH DELETE z;\n",
    "\"\"\"\n",
    "q2 = f\"\"\"\n",
    "LOAD CSV WITH HEADERS FROM 'file:///sozmed/Person.csv' AS r FIELDTERMINATOR '|'\n",
    "CALL {{\n",
    "  WITH r\n",
    "  MATCH (x:Person {{id: toInteger(r.id)}})\n",
    "  MATCH (y:City {{id: toInteger(r.LocationCityId)}})\n",
    "  CREATE (x)-[:IS_LOCATED_IN]->(y)\n",
    "}} IN TRANSACTIONS OF 100000 ROWS;\n",
    "\"\"\"\n",
    "exe1(driver, q1)  \n",
    "exe2(driver, q2)  "
   ]
  },
  {
   "cell_type": "code",
   "execution_count": 22,
   "metadata": {},
   "outputs": [
    {
     "name": "stdout",
     "output_type": "stream",
     "text": [
      "16 IS_LOCATED_IN\n"
     ]
    }
   ],
   "source": [
    "# -------------------------------------------------\n",
    "# 16 IS_LOCATED_IN\n",
    "# -------------------------------------------------\n",
    "print(\"16 IS_LOCATED_IN\")\n",
    "q1 = f\"\"\"\n",
    "MATCH (x:Message)-[z:IS_LOCATED_IN]->(y:Country) DETACH DELETE z;\n",
    "\"\"\"\n",
    "q2 = f\"\"\"\n",
    "LOAD CSV WITH HEADERS FROM 'file:///sozmed/Message.csv' AS r FIELDTERMINATOR '|'\n",
    "CALL {{\n",
    "  WITH r\n",
    "  MATCH (x:Message {{id: toInteger(r.id)}})\n",
    "  MATCH (y:Country {{id: toInteger(r.LocationCountryId)}})\n",
    "  CREATE (x)-[:IS_LOCATED_IN]->(y)\n",
    "}} IN TRANSACTIONS OF 100000 ROWS;\n",
    "\"\"\"\n",
    "exe1(driver, q1)  \n",
    "exe2(driver, q2)  "
   ]
  },
  {
   "cell_type": "code",
   "execution_count": 23,
   "metadata": {},
   "outputs": [
    {
     "name": "stdout",
     "output_type": "stream",
     "text": [
      "17 STUDY_AT\n"
     ]
    }
   ],
   "source": [
    "# -------------------------------------------------\n",
    "# 17 STUDY_AT\n",
    "# -------------------------------------------------\n",
    "print(\"17 STUDY_AT\")\n",
    "q1 = f\"\"\"\n",
    "MATCH (x:Person)-[z:STUDY_AT]->(y:University) DETACH DELETE z;\n",
    "\"\"\"\n",
    "q2 = f\"\"\"\n",
    "LOAD CSV WITH HEADERS FROM 'file:///sozmed/Person_studyAt_University.csv' AS r FIELDTERMINATOR '|'\n",
    "CALL {{\n",
    "  WITH r\n",
    "  MATCH (x:Person {{id: toInteger(r.PersonId)}})\n",
    "  MATCH (y:University {{id: toInteger(r.UniversityId)}})\n",
    "  CREATE (x)-[:STUDY_AT {{creationDate: datetime(replace(r.creationDate, ' ', 'T'))}}]->(y)\n",
    "}} IN TRANSACTIONS OF 100000 ROWS;\n",
    "\"\"\"\n",
    "exe1(driver, q1)  \n",
    "exe2(driver, q2)  "
   ]
  },
  {
   "cell_type": "code",
   "execution_count": 24,
   "metadata": {},
   "outputs": [
    {
     "name": "stdout",
     "output_type": "stream",
     "text": [
      "18 WORK_AT\n"
     ]
    }
   ],
   "source": [
    "# -------------------------------------------------\n",
    "# 18 WORK_AT\n",
    "# -------------------------------------------------\n",
    "print(\"18 WORK_AT\")\n",
    "q1 = f\"\"\"\n",
    "MATCH (x:Person)-[z:WORK_AT]->(y:Company) DETACH DELETE z;\n",
    "\"\"\"\n",
    "q2 = f\"\"\"\n",
    "LOAD CSV WITH HEADERS FROM 'file:///sozmed/Person_workAt_Company.csv' AS r FIELDTERMINATOR '|'\n",
    "CALL {{\n",
    "  WITH r\n",
    "  MATCH (x:Person {{id: toInteger(r.PersonId)}})\n",
    "  MATCH (y:Company {{id: toInteger(r.CompanyId)}})\n",
    "  CREATE (x)-[:WORK_AT {{creationDate: datetime(replace(r.creationDate, ' ', 'T'))}}]->(y)\n",
    "}} IN TRANSACTIONS OF 100000 ROWS;\n",
    "\"\"\"\n",
    "exe1(driver, q1)  \n",
    "exe2(driver, q2)  "
   ]
  },
  {
   "cell_type": "code",
   "execution_count": 25,
   "metadata": {},
   "outputs": [
    {
     "name": "stdout",
     "output_type": "stream",
     "text": [
      "19 KNOWS\n"
     ]
    }
   ],
   "source": [
    "# -------------------------------------------------\n",
    "# 19 KNOWS\n",
    "# -------------------------------------------------\n",
    "print(\"19 KNOWS\")\n",
    "q1 = f\"\"\"\n",
    "MATCH (x:Person)-[z:KNOWS]->(y:Person) DETACH DELETE z;\n",
    "\"\"\"\n",
    "q2 = f\"\"\"\n",
    "LOAD CSV WITH HEADERS FROM 'file:///sozmed/Person_knows_Person.csv' AS r FIELDTERMINATOR '|'\n",
    "CALL {{\n",
    "  WITH r\n",
    "  MATCH (x:Person {{id: toInteger(r.Person1Id)}})\n",
    "  MATCH (y:Person {{id: toInteger(r.Person2Id)}})\n",
    "  CREATE (x)-[:KNOWS {{creationDate: datetime(replace(r.creationDate, ' ', 'T'))}}]->(y)\n",
    "}} IN TRANSACTIONS OF 100000 ROWS;\n",
    "\"\"\"\n",
    "exe1(driver, q1)  \n",
    "exe2(driver, q2)  "
   ]
  },
  {
   "cell_type": "code",
   "execution_count": 26,
   "metadata": {},
   "outputs": [
    {
     "name": "stdout",
     "output_type": "stream",
     "text": [
      "20 HAS_INTEREST\n"
     ]
    }
   ],
   "source": [
    "# -------------------------------------------------\n",
    "# 20 HAS_INTEREST\n",
    "# -------------------------------------------------\n",
    "print(\"20 HAS_INTEREST\")\n",
    "q1 = f\"\"\"\n",
    "MATCH (x:Person)-[z:HAS_INTEREST]->(y:Tag) DETACH DELETE z;\n",
    "\"\"\"\n",
    "q2 = f\"\"\"\n",
    "LOAD CSV WITH HEADERS FROM 'file:///sozmed/Person_hasInterest_Tag.csv' AS r FIELDTERMINATOR '|'\n",
    "CALL {{\n",
    "  WITH r\n",
    "  MATCH (x:Person {{id: toInteger(r.PersonId)}})\n",
    "  MATCH (y:Tag {{id: toInteger(r.TagId)}})\n",
    "  CREATE (x)-[:HAS_INTEREST {{creationDate: datetime(replace(r.creationDate, ' ', 'T'))}}]->(y)\n",
    "}} IN TRANSACTIONS OF 100000 ROWS;\n",
    "\"\"\"\n",
    "exe1(driver, q1)  \n",
    "exe2(driver, q2)  "
   ]
  },
  {
   "cell_type": "code",
   "execution_count": 27,
   "metadata": {},
   "outputs": [
    {
     "name": "stdout",
     "output_type": "stream",
     "text": [
      "21 LIKES\n"
     ]
    }
   ],
   "source": [
    "# -------------------------------------------------\n",
    "# 21 LIKES\n",
    "# -------------------------------------------------\n",
    "print(\"21 LIKES\")\n",
    "q1 = f\"\"\"\n",
    "MATCH (x:Person)-[z:LIKES]->(y:Message) DETACH DELETE z;\n",
    "\"\"\"\n",
    "q2 = f\"\"\"\n",
    "LOAD CSV WITH HEADERS FROM 'file:///sozmed/Person_likes_Message.csv' AS r FIELDTERMINATOR '|'\n",
    "CALL {{\n",
    "  WITH r\n",
    "  MATCH (x:Person {{id: toInteger(r.PersonId)}})\n",
    "  MATCH (y:Message {{id: toInteger(r.id)}})\n",
    "  CREATE (x)-[:LIKES {{creationDate: datetime(replace(r.creationDate, ' ', 'T'))}}]->(y)\n",
    "}} IN TRANSACTIONS OF 100000 ROWS;\n",
    "\"\"\"\n",
    "exe1(driver, q1)  \n",
    "exe2(driver, q2)  "
   ]
  },
  {
   "cell_type": "code",
   "execution_count": 28,
   "metadata": {},
   "outputs": [
    {
     "name": "stdout",
     "output_type": "stream",
     "text": [
      "22 HAS_MEMBER\n"
     ]
    }
   ],
   "source": [
    "# -------------------------------------------------\n",
    "# 22 HAS_MEMBER\n",
    "# -------------------------------------------------\n",
    "print(\"22 HAS_MEMBER\")\n",
    "q1 = f\"\"\"\n",
    "MATCH (x:Forum)-[z:HAS_MEMBER]->(y:Person) DETACH DELETE z;\n",
    "\"\"\"\n",
    "q2 = f\"\"\"\n",
    "LOAD CSV WITH HEADERS FROM 'file:///sozmed/Forum_hasMember_Person.csv' AS r FIELDTERMINATOR '|'\n",
    "CALL {{\n",
    "  WITH r\n",
    "  MATCH (x:Forum {{id: toInteger(r.ForumId)}})\n",
    "  MATCH (y:Person {{id: toInteger(r.PersonId)}})\n",
    "  CREATE (x)-[:HAS_MEMBER {{creationDate: datetime(replace(r.creationDate, ' ', 'T'))}}]->(y)\n",
    "}} IN TRANSACTIONS OF 100000 ROWS;\n",
    "\"\"\"\n",
    "exe1(driver, q1)  \n",
    "exe2(driver, q2)  "
   ]
  },
  {
   "cell_type": "code",
   "execution_count": 29,
   "metadata": {},
   "outputs": [
    {
     "name": "stdout",
     "output_type": "stream",
     "text": [
      "23 HAS_TAG\n"
     ]
    }
   ],
   "source": [
    "# -------------------------------------------------\n",
    "# 23 HAS_TAG\n",
    "# -------------------------------------------------\n",
    "print(\"23 HAS_TAG\")\n",
    "q1 = f\"\"\"\n",
    "MATCH (x:Forum)-[z:HAS_TAG]->(y:Tag) DETACH DELETE z;\n",
    "\"\"\"\n",
    "q2 = f\"\"\"\n",
    "LOAD CSV WITH HEADERS FROM 'file:///sozmed/Forum_hasTag_Tag.csv' AS r FIELDTERMINATOR '|'\n",
    "CALL {{\n",
    "  WITH r\n",
    "  MATCH (x:Forum {{id: toInteger(r.ForumId)}})\n",
    "  MATCH (y:Tag {{id: toInteger(r.TagId)}})\n",
    "  CREATE (x)-[:HAS_TAG {{creationDate: datetime(replace(r.creationDate, ' ', 'T'))}}]->(y)\n",
    "}} IN TRANSACTIONS OF 100000 ROWS;\n",
    "\"\"\"\n",
    "exe1(driver, q1)  \n",
    "exe2(driver, q2)  "
   ]
  },
  {
   "cell_type": "code",
   "execution_count": 30,
   "metadata": {},
   "outputs": [
    {
     "name": "stdout",
     "output_type": "stream",
     "text": [
      "24 HAS_MODERATOR\n"
     ]
    }
   ],
   "source": [
    "# -------------------------------------------------\n",
    "# 24 HAS_MODERATOR\n",
    "# -------------------------------------------------\n",
    "print(\"24 HAS_MODERATOR\")\n",
    "q1 = f\"\"\"\n",
    "MATCH (x:Forum)-[z:HAS_MODERATOR]->(y:Person) DETACH DELETE z;\n",
    "\"\"\"\n",
    "q2 = f\"\"\"\n",
    "LOAD CSV WITH HEADERS FROM 'file:///sozmed/Forum.csv' AS r FIELDTERMINATOR '|'\n",
    "CALL {{\n",
    "  WITH r\n",
    "  MATCH (x:Forum {{id: toInteger(r.id)}})\n",
    "  MATCH (y:Person {{id: toInteger(r.ModeratorPersonId)}})\n",
    "  CREATE (x)-[:HAS_MODERATOR]->(y)\n",
    "}} IN TRANSACTIONS OF 100000 ROWS;\n",
    "\"\"\"\n",
    "exe1(driver, q1)  \n",
    "exe2(driver, q2)  "
   ]
  },
  {
   "cell_type": "code",
   "execution_count": 31,
   "metadata": {},
   "outputs": [
    {
     "name": "stdout",
     "output_type": "stream",
     "text": [
      "25 CONTAINER_OF\n"
     ]
    }
   ],
   "source": [
    "# -------------------------------------------------\n",
    "# 25 CONTAINER_OF\n",
    "# -------------------------------------------------\n",
    "print(\"25 CONTAINER_OF\")\n",
    "q1 = f\"\"\"\n",
    "MATCH (x:Forum)-[z:CONTAINER_OF]->(y:Post) DETACH DELETE z;\n",
    "\"\"\"\n",
    "q2 = f\"\"\"\n",
    "LOAD CSV WITH HEADERS FROM 'file:///sozmed/Message.csv' AS r FIELDTERMINATOR '|'\n",
    "CALL {{\n",
    "  WITH r\n",
    "  MATCH (x:Forum {{id: toInteger(r.ContainerForumId)}})\n",
    "  MATCH (y:Post {{id: toInteger(r.id)}})\n",
    "  CREATE (x)-[:CONTAINER_OF]->(y)\n",
    "}} IN TRANSACTIONS OF 100000 ROWS;\n",
    "\"\"\"\n",
    "exe1(driver, q1)  \n",
    "exe2(driver, q2)  "
   ]
  },
  {
   "cell_type": "code",
   "execution_count": 32,
   "metadata": {},
   "outputs": [
    {
     "name": "stdout",
     "output_type": "stream",
     "text": [
      "26 HAS_CREATOR\n"
     ]
    }
   ],
   "source": [
    "# -------------------------------------------------\n",
    "# 26 HAS_CREATOR\n",
    "# -------------------------------------------------\n",
    "print(\"26 HAS_CREATOR\")\n",
    "q1 = f\"\"\"\n",
    "MATCH (x:Message)-[z:HAS_CREATOR]->(y:Person) DETACH DELETE z;\n",
    "\"\"\"\n",
    "q2 = f\"\"\"\n",
    "LOAD CSV WITH HEADERS FROM 'file:///sozmed/Message.csv' AS r FIELDTERMINATOR '|'\n",
    "CALL {{\n",
    "  WITH r\n",
    "  MATCH (x:Message {{id: toInteger(r.id)}})\n",
    "  MATCH (y:Person {{id: toInteger(r.CreatorPersonId)}})\n",
    "  CREATE (x)-[:HAS_CREATOR]->(y)\n",
    "}} IN TRANSACTIONS OF 100000 ROWS;\n",
    "\"\"\"\n",
    "exe1(driver, q1)  \n",
    "exe2(driver, q2)  "
   ]
  },
  {
   "cell_type": "code",
   "execution_count": 33,
   "metadata": {},
   "outputs": [
    {
     "name": "stdout",
     "output_type": "stream",
     "text": [
      "27 HAS_TAG\n"
     ]
    }
   ],
   "source": [
    "# -------------------------------------------------\n",
    "# 27 HAS_TAG\n",
    "# -------------------------------------------------\n",
    "print(\"27 HAS_TAG\")\n",
    "q1 = f\"\"\"\n",
    "MATCH (x:Message)-[z:HAS_TAG]->(y:Tag) DETACH DELETE z;\n",
    "\"\"\"\n",
    "q2 = f\"\"\"\n",
    "LOAD CSV WITH HEADERS FROM 'file:///sozmed/Message_hasTag_Tag.csv' AS r FIELDTERMINATOR '|'\n",
    "CALL {{\n",
    "  WITH r\n",
    "  MATCH (x:Message {{id: toInteger(r.id)}})\n",
    "  MATCH (y:Tag {{id: toInteger(r.TagId)}})\n",
    "  CREATE (x)-[:HAS_TAG {{creationDate: datetime(replace(r.creationDate, ' ', 'T'))}}]->(y)\n",
    "}} IN TRANSACTIONS OF 100000 ROWS;\n",
    "\"\"\"\n",
    "exe1(driver, q1)  \n",
    "exe2(driver, q2)  "
   ]
  },
  {
   "cell_type": "code",
   "execution_count": 34,
   "metadata": {},
   "outputs": [
    {
     "name": "stdout",
     "output_type": "stream",
     "text": [
      "28 REPLY_OF\n"
     ]
    }
   ],
   "source": [
    "# -------------------------------------------------\n",
    "# 28 REPLY_OF\n",
    "# -------------------------------------------------\n",
    "print(\"28 REPLY_OF\")\n",
    "q1 = f\"\"\"\n",
    "MATCH (x:Comment)-[z:REPLY_OF]->(y:Message) DETACH DELETE z;\n",
    "\"\"\"\n",
    "q2 = f\"\"\"\n",
    "LOAD CSV WITH HEADERS FROM 'file:///sozmed/Message.csv' AS r FIELDTERMINATOR '|'\n",
    "CALL {{\n",
    "  WITH r\n",
    "  MATCH (x:Comment {{id: toInteger(r.id)}})\n",
    "  MATCH (y:Message {{id: toInteger(r.ParentMessageId)}})\n",
    "  CREATE (x)-[:REPLY_OF]->(y)\n",
    "}} IN TRANSACTIONS OF 100000 ROWS;\n",
    "\"\"\"\n",
    "exe1(driver, q1)  \n",
    "exe2(driver, q2)  "
   ]
  }
 ],
 "metadata": {
  "kernelspec": {
   "display_name": "base",
   "language": "python",
   "name": "python3"
  },
  "language_info": {
   "codemirror_mode": {
    "name": "ipython",
    "version": 3
   },
   "file_extension": ".py",
   "mimetype": "text/x-python",
   "name": "python",
   "nbconvert_exporter": "python",
   "pygments_lexer": "ipython3",
   "version": "3.10.10"
  },
  "orig_nbformat": 4
 },
 "nbformat": 4,
 "nbformat_minor": 2
}
