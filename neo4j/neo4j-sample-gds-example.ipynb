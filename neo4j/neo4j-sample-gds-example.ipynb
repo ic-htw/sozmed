{
 "cells": [
  {
   "cell_type": "markdown",
   "id": "e2f1a2a8-59c2-4be6-9adf-a6017b9437a9",
   "metadata": {},
   "source": [
    "This example notebook expects you to have these packages installed (using pip install or whatever works for you):\n",
    "neo4j\n",
    "graphdatascience\n",
    "yfiles_jupyter_graphs\n",
    "\n",
    "The queries are meant to work with the airport example. So if you have GDS enabled and a database that contains the airport example from neo4j, just fill in your credentials in the next cell and give it a try!\n",
    "\n",
    "Insert your database connection credentials, here."
   ]
  },
  {
   "cell_type": "code",
   "execution_count": null,
   "id": "dcdc49d0-b3e3-4b0c-ab6c-073e2389c5a0",
   "metadata": {
    "tags": []
   },
   "outputs": [],
   "source": [
    "from neo4j import basic_auth\n",
    "\n",
    "db = \"neo4j+s://yourdatabaseid.databases.neo4j.io\"\n",
    "auth = basic_auth(\"username\", \"password\")\n"
   ]
  },
  {
   "cell_type": "code",
   "execution_count": null,
   "id": "b38dd783",
   "metadata": {},
   "outputs": [],
   "source": [
    "from neo4j import GraphDatabase\n",
    "from yfiles_jupyter_graphs import GraphWidget\n",
    "import cred_neo4j as c"
   ]
  },
  {
   "cell_type": "code",
   "execution_count": null,
   "id": "e15efe3a",
   "metadata": {},
   "outputs": [],
   "source": [
    "driver = GraphDatabase.driver(c.neo4j_host, auth=(c.neo4j_userid, c.neo4j_password)) "
   ]
  },
  {
   "cell_type": "code",
   "execution_count": null,
   "id": "f650327a-ac66-4eec-ad45-6087a50115ad",
   "metadata": {},
   "outputs": [],
   "source": [
    "from neo4j import GraphDatabase\n",
    "\n",
    "driver = GraphDatabase.driver(db, auth=auth)\n",
    "\n",
    "with driver.session(database=\"neo4j\") as session:\n",
    "  graph = session.run(\"MATCH triple=(a:Airport)-[r]->() WHERE type(r) <> 'HAS_ROUTE'  RETURN triple LIMIT 25\").graph()\n",
    "\n",
    "from yfiles_jupyter_graphs import GraphWidget\n",
    "GraphWidget(graph = graph)"
   ]
  },
  {
   "cell_type": "code",
   "execution_count": null,
   "id": "b7a047e4-4da4-424f-9825-60ee75d47314",
   "metadata": {
    "tags": []
   },
   "outputs": [],
   "source": [
    "\n",
    "driver = GraphDatabase.driver(\n",
    "  db,\n",
    "  auth=auth)\n",
    "\n",
    "with driver.session(database=\"neo4j\") as session:\n",
    "  graph = session.run(\"MATCH p=()-[r]->() WHERE type(r) <> 'HAS_ROUTE'  RETURN p LIMIT 25\").graph()\n",
    "\n",
    "\n",
    "styles = {\n",
    "    \"Airport\": {\"color\":\"#6C7400\", \"shape\":\"ellipse\", \"label\":\"iata\"},\n",
    "    \"City\": {\"color\":\"#005977\", \"shape\":\"rectangle\", \"label\":\"name\"},\n",
    "    \"Region\": {\"color\":\"#386664\", \"shape\":\"rectangle\", \"label\":\"name\"},\n",
    "    \"Country\": {\"color\":\"#498381\", \"shape\":\"octagon\", \"label\":\"code\"},\n",
    "    \"Continent\": {\"color\":\"#254241\", \"shape\":\"hexagon\", \"label\":\"name\"}\n",
    "}   \n",
    "\n",
    "w = GraphWidget(graph = graph)\n",
    "w.set_edge_color_mapping(lambda index, edge : \"orange\" if edge[\"properties\"][\"label\"] == \"IN_COUNTRY\" else \"black\")\n",
    "w.set_node_styles_mapping(lambda index, node : styles.get(node[\"properties\"][\"label\"], {}))\n",
    "w.set_node_label_mapping(lambda index, node : node[\"properties\"][styles.get(node[\"properties\"][\"label\"], {\"label\":\"label\"})[\"label\"]])\n",
    "\n",
    "w.show()"
   ]
  },
  {
   "cell_type": "code",
   "execution_count": null,
   "id": "121a1a8e-05f2-480d-b7c6-6a573c5b1a9e",
   "metadata": {
    "tags": []
   },
   "outputs": [],
   "source": [
    "def createAirportGraph(neo4jGraph):\n",
    "  styles = {\n",
    "    \"Airport\": {\"color\":\"#6C7400\", \"shape\":\"ellipse\", \"label\":\"iata\"},\n",
    "    \"City\": {\"color\":\"#005977\", \"shape\":\"rectangle\", \"label\":\"name\"},\n",
    "    \"Region\": {\"color\":\"#386664\", \"shape\":\"rectangle\", \"label\":\"name\"},\n",
    "    \"Country\": {\"color\":\"#498381\", \"shape\":\"octagon\", \"label\":\"code\"},\n",
    "    \"Continent\": {\"color\":\"#254241\", \"shape\":\"hexagon\", \"label\":\"name\"}\n",
    "  }\n",
    "    \n",
    "  w = GraphWidget(graph = neo4jGraph)  \n",
    "\n",
    "  w.set_edge_color_mapping(lambda index, edge : \"orange\" if edge[\"properties\"][\"label\"] == \"IN_COUNTRY\" else \"black\")\n",
    "  w.set_node_styles_mapping(lambda index, node : styles.get(node[\"properties\"][\"label\"], {}))\n",
    "  w.set_node_label_mapping(lambda index, node : node[\"properties\"][styles.get(node[\"properties\"][\"label\"], {\"label\":\"label\"})[\"label\"]])\n",
    "\n",
    "  return w  "
   ]
  },
  {
   "cell_type": "code",
   "execution_count": null,
   "id": "87b2c419-c590-4f82-b12a-e72b8d2ec65d",
   "metadata": {
    "tags": []
   },
   "outputs": [],
   "source": [
    "from graphdatascience import GraphDataScience\n",
    "\n",
    "# Use Neo4j URI and credentials according to your setup\n",
    "gds = GraphDataScience(db, auth=auth)\n",
    "\n",
    "# In a second run, be sure to drop the projected graph, first\n",
    "#gds.graph.drop(gds.graph.get(\"air-routes\"))\n",
    "\n",
    "G_air, results = gds.graph.project(\"air-routes\", \"Airport\", \n",
    "                                   {\"HAS_ROUTE\": {\"orientation\": \"NATURAL\", \"properties\": [\"distance\"]}})\n",
    "\n",
    "source_id = gds.find_node_id([\"Airport\"], {\"iata\": \"STR\"})\n",
    "target_id = gds.find_node_id([\"Airport\"], {\"iata\": \"ART\"})\n",
    "result = gds.shortestPath.dijkstra.stream(G_air, sourceNode = source_id, targetNode = target_id, relationshipWeightProperty = \"distance\")\n",
    "\n",
    "with driver.session(database=\"neo4j\") as session:\n",
    "  graph = session.run(\"\"\"\n",
    "          MATCH (sco:Country)<-[scor:IN_COUNTRY]-(sr:Region)<-[srr:IN_REGION]-(sc:City)<-[scr:IN_CITY]-\n",
    "              (s:Airport)-[r:HAS_ROUTE]->(t:Airport)\n",
    "              -[tcr:IN_CITY]->(tc:City)-[trr:IN_REGION]->(tr:Region)-[tcor:IN_COUNTRY]->(tco:Country) \n",
    "          WHERE id(s) in $ids AND id(t) in $ids \n",
    "          RETURN * LIMIT 100\n",
    "      \"\"\", {\"ids\":list(result.nodeIds[0])}).graph()\n",
    "\n",
    "\n",
    "createAirportGraph(graph)"
   ]
  },
  {
   "cell_type": "code",
   "execution_count": null,
   "id": "8b841b1d-92ba-4975-a9cd-d48c711879eb",
   "metadata": {
    "tags": []
   },
   "outputs": [],
   "source": [
    "import math;\n",
    "from graphdatascience import GraphDataScience\n",
    "from matplotlib import cm\n",
    "from matplotlib.colors import to_hex\n",
    "\n",
    "gds = GraphDataScience(db, auth=auth)\n",
    "gds.graph.drop(gds.graph.get(\"air-routes\"))\n",
    "\n",
    "G_air, results = gds.graph.project(\"air-routes\", \"Airport\", \n",
    "                                   {\"HAS_ROUTE\": {\"orientation\": \"UNDIRECTED\"}})\n",
    "\n",
    "gds.pageRank.mutate(G_air, mutateProperty='pageRank')\n",
    "pageRankTable = gds.graph.streamNodeProperties(G_air, ['pageRank'])\n",
    "\n",
    "cutoff = 1.5\n",
    "\n",
    "filteredTable = pageRankTable[pageRankTable.propertyValue > cutoff]\n",
    "ranks = dict(zip(filteredTable.nodeId, filteredTable.propertyValue))\n",
    "\n",
    "with driver.session(database=\"neo4j\") as session:\n",
    "  graph = session.run(\"\"\"\n",
    "      MATCH (s)\n",
    "        WHERE id(s) in $ids \n",
    "      RETURN s\n",
    "    \"\"\", {\"ids\":list(filteredTable.nodeId)}).graph()\n",
    "\n",
    "\n",
    "w = GraphWidget(graph = graph)\n",
    "\n",
    "w.set_node_label_mapping(lambda index, node : node[\"properties\"][\"iata\"])\n",
    "\n",
    "\n",
    "def custom_scale_mapping(index, node):\n",
    "    rank = ranks[node.get('id')]\n",
    "    return 1 + math.sqrt(rank - cutoff + 1) if rank > cutoff else 1\n",
    "w.node_scale_factor_mapping = custom_scale_mapping\n",
    "\n",
    "maxRank = filteredTable.propertyValue.max()\n",
    "viridis = cm.get_cmap('viridis', round(maxRank))\n",
    "\n",
    "def color_mapping(index, node):\n",
    "    rank = ranks[node.get('id')]\n",
    "    return to_hex(viridis(rank/maxRank))\n",
    "w.node_color_mapping = color_mapping\n",
    "\n",
    "def location_mapping(index, node): \n",
    "    location = node[\"properties\"][\"location\"]\n",
    "    return [location[0] * 150, location[1] * -200]\n",
    "w.node_position_mapping = location_mapping\n",
    "w.graph_layout = \"organic_edge_router\"\n",
    "\n",
    "w.show()"
   ]
  }
 ],
 "metadata": {
  "kernelspec": {
   "display_name": "Python 3 (ipykernel)",
   "language": "python",
   "name": "python3"
  },
  "language_info": {
   "codemirror_mode": {
    "name": "ipython",
    "version": 3
   },
   "file_extension": ".py",
   "mimetype": "text/x-python",
   "name": "python",
   "nbconvert_exporter": "python",
   "pygments_lexer": "ipython3",
   "version": "3.9.10"
  }
 },
 "nbformat": 4,
 "nbformat_minor": 5
}
