{
 "cells": [
  {
   "cell_type": "code",
   "execution_count": 2,
   "id": "bea076ac",
   "metadata": {},
   "outputs": [],
   "source": [
    "import duckdb\n",
    "con = duckdb.connect(database='sozmed.duckdb', read_only=False)"
   ]
  },
  {
   "cell_type": "code",
   "execution_count": 3,
   "id": "02d0eea6",
   "metadata": {},
   "outputs": [
    {
     "data": {
      "text/plain": [
       "<duckdb.DuckDBPyConnection at 0x7fc4b8408530>"
      ]
     },
     "execution_count": 3,
     "metadata": {},
     "output_type": "execute_result"
    }
   ],
   "source": [
    "sql = \"\"\"\n",
    "-- create indexes on foreign keys\n",
    "CREATE INDEX i01 ON Forum (ModeratorPersonId);\n",
    "CREATE INDEX i02 ON Forum_hasMember_Person (ForumId);\n",
    "CREATE INDEX i03 ON Forum_hasMember_Person (PersonId);\n",
    "CREATE INDEX i04 ON Forum_hasTag_Tag (ForumId);\n",
    "CREATE INDEX i05 ON Forum_hasTag_Tag (TagId);\n",
    "CREATE INDEX i06 ON Person_knows_Person (Person1Id);\n",
    "CREATE INDEX i07 ON Person_knows_Person (Person2Id);\n",
    "CREATE INDEX i08 ON Person_likes_Message (PersonId);\n",
    "CREATE INDEX i09 ON Person_likes_Message (MessageId);\n",
    "CREATE INDEX i10 ON University (LocationPlaceId);\n",
    "CREATE INDEX i11 ON Company (LocationPlaceId);\n",
    "CREATE INDEX i12 ON person (LocationCityId);\n",
    "CREATE INDEX i13 ON Person_workAt_Company (PersonId);\n",
    "CREATE INDEX i14 ON Person_workAt_Company (CompanyId);\n",
    "CREATE INDEX i15 ON Person_hasInterest_Tag (PersonId);\n",
    "CREATE INDEX i16 ON Person_hasInterest_Tag (TagId);\n",
    "CREATE INDEX i17 ON Person_studyAt_University (PersonId);\n",
    "CREATE INDEX i18 ON Person_studyAt_University (UniversityId);\n",
    "CREATE INDEX i19 ON Message (CreatorPersonId);\n",
    "CREATE INDEX i20 ON Message (LocationCountryId);\n",
    "CREATE INDEX i21 ON Message (ContainerForumId);\n",
    "CREATE INDEX i22 ON Message (ParentMessageId);\n",
    "CREATE INDEX i23 ON Message_hasTag_Tag (MessageId);\n",
    "CREATE INDEX i24 ON Message_hasTag_Tag (TagId);\n",
    "CREATE INDEX i25 ON Tag (TypeTagClassId);\n",
    "CREATE INDEX i26 ON TagClass (SubclassOfTagClassId);\n",
    "\"\"\"\n",
    "con.execute(sql)"
   ]
  },
  {
   "cell_type": "code",
   "execution_count": 4,
   "id": "15183a25",
   "metadata": {},
   "outputs": [],
   "source": [
    "con.close()"
   ]
  }
 ],
 "metadata": {
  "kernelspec": {
   "display_name": "Python 3 (ipykernel)",
   "language": "python",
   "name": "python3"
  },
  "language_info": {
   "codemirror_mode": {
    "name": "ipython",
    "version": 3
   },
   "file_extension": ".py",
   "mimetype": "text/x-python",
   "name": "python",
   "nbconvert_exporter": "python",
   "pygments_lexer": "ipython3",
   "version": "3.11.4"
  }
 },
 "nbformat": 4,
 "nbformat_minor": 5
}
