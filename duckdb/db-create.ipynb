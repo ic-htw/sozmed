{
 "cells": [
  {
   "cell_type": "code",
   "execution_count": 5,
   "id": "d4eb31c4",
   "metadata": {},
   "outputs": [],
   "source": [
    "import duckdb\n",
    "con = duckdb.connect(database='sozmed.duckdb', read_only=False)"
   ]
  },
  {
   "cell_type": "code",
   "execution_count": 6,
   "id": "5140f073",
   "metadata": {},
   "outputs": [
    {
     "data": {
      "text/plain": [
       "PosixPath('../../csv/sozmed')"
      ]
     },
     "execution_count": 6,
     "metadata": {},
     "output_type": "execute_result"
    }
   ],
   "source": [
    "from pathlib import Path\n",
    "data_dir = Path(\"../../csv/sozmed\")\n",
    "data_dir"
   ]
  },
  {
   "cell_type": "code",
   "execution_count": 7,
   "id": "a1590612",
   "metadata": {},
   "outputs": [
    {
     "data": {
      "text/plain": [
       "<duckdb.DuckDBPyConnection at 0x7f7cc01432b0>"
      ]
     },
     "execution_count": 7,
     "metadata": {},
     "output_type": "execute_result"
    }
   ],
   "source": [
    "# -------------------------------------------------\n",
    "# 01 TagClass\n",
    "# -------------------------------------------------\n",
    "sql1 = f\"\"\"\n",
    "drop table if exists TagClass;\n",
    "\"\"\"\n",
    "\n",
    "sql2 = f\"\"\"\n",
    "CREATE TABLE TagClass (\n",
    "    id bigint PRIMARY KEY,\n",
    "    name text NOT NULL,\n",
    "    url text NOT NULL,\n",
    "    SubclassOfTagClassId bigint -- null for the root TagClass (Thing)\n",
    ");\n",
    "\"\"\"\n",
    "\n",
    "sql3 = f\"\"\"\n",
    "insert into TagClass\n",
    "  select * from read_csv('{data_dir}/TagClass.csv', delim='|', header=True, AUTO_DETECT=TRUE);\n",
    "\"\"\"\n",
    "\n",
    "con.execute(sql1)\n",
    "con.execute(sql2)\n",
    "con.execute(sql3)"
   ]
  },
  {
   "cell_type": "code",
   "execution_count": 8,
   "id": "97f906ed",
   "metadata": {},
   "outputs": [
    {
     "data": {
      "text/plain": [
       "<duckdb.DuckDBPyConnection at 0x7f7cc01432b0>"
      ]
     },
     "execution_count": 8,
     "metadata": {},
     "output_type": "execute_result"
    }
   ],
   "source": [
    "# -------------------------------------------------\n",
    "# 02 Tag\n",
    "# -------------------------------------------------\n",
    "sql1 = f\"\"\"\n",
    "drop table if exists Tag;\n",
    "\"\"\"\n",
    "\n",
    "sql2 = f\"\"\"\n",
    "CREATE TABLE Tag (\n",
    "    id bigint PRIMARY KEY,\n",
    "    name text NOT NULL,\n",
    "    url text NOT NULL,\n",
    "    TypeTagClassId bigint NOT NULL\n",
    ");\n",
    "\"\"\"\n",
    "\n",
    "sql3 = f\"\"\"\n",
    "insert into Tag\n",
    "  select * from read_csv('{data_dir}/Tag.csv', delim='|', header=True, AUTO_DETECT=TRUE);\n",
    "\"\"\"\n",
    "\n",
    "con.execute(sql1)\n",
    "con.execute(sql2)\n",
    "con.execute(sql3)\n"
   ]
  },
  {
   "cell_type": "code",
   "execution_count": 9,
   "id": "f7c659c3",
   "metadata": {},
   "outputs": [
    {
     "data": {
      "text/plain": [
       "<duckdb.DuckDBPyConnection at 0x7f7cc01432b0>"
      ]
     },
     "execution_count": 9,
     "metadata": {},
     "output_type": "execute_result"
    }
   ],
   "source": [
    "# -------------------------------------------------\n",
    "# 03 Country\n",
    "# -------------------------------------------------\n",
    "sql1 = f\"\"\"\n",
    "drop table if exists Country;\n",
    "\"\"\"\n",
    "\n",
    "sql2 = f\"\"\"\n",
    "CREATE TABLE Country (\n",
    "    id bigint PRIMARY KEY,\n",
    "    name varchar(256) NOT NULL,\n",
    "    url varchar(256) NOT NULL,\n",
    "    PartOfContinentId bigint\n",
    ");\n",
    "\"\"\"\n",
    "\n",
    "sql3 = f\"\"\"\n",
    "insert into Country\n",
    "  select * from read_csv('{data_dir}/Country.csv', delim='|', header=True, AUTO_DETECT=TRUE);\n",
    "\"\"\"\n",
    "\n",
    "con.execute(sql1)\n",
    "con.execute(sql2)\n",
    "con.execute(sql3)\n",
    "\n"
   ]
  },
  {
   "cell_type": "code",
   "execution_count": 10,
   "id": "06a9152f",
   "metadata": {},
   "outputs": [
    {
     "data": {
      "text/plain": [
       "<duckdb.DuckDBPyConnection at 0x7f7cc01432b0>"
      ]
     },
     "execution_count": 10,
     "metadata": {},
     "output_type": "execute_result"
    }
   ],
   "source": [
    "# -------------------------------------------------\n",
    "# 04 City\n",
    "# -------------------------------------------------\n",
    "sql1 = f\"\"\"\n",
    "drop table if exists City;\n",
    "\"\"\"\n",
    "\n",
    "sql2 = f\"\"\"\n",
    "CREATE TABLE City (\n",
    "    id bigint PRIMARY KEY,\n",
    "    name varchar(256) NOT NULL,\n",
    "    url varchar(256) NOT NULL,\n",
    "    PartOfCountryId bigint\n",
    ");\n",
    "\"\"\"\n",
    "\n",
    "sql3 = f\"\"\"\n",
    "insert into City\n",
    "  select * from read_csv('{data_dir}/City.csv', delim='|', header=True, AUTO_DETECT=TRUE);\n",
    "\"\"\"\n",
    "\n",
    "con.execute(sql1)\n",
    "con.execute(sql2)\n",
    "con.execute(sql3)\n"
   ]
  },
  {
   "cell_type": "code",
   "execution_count": 11,
   "id": "4977d108",
   "metadata": {},
   "outputs": [
    {
     "data": {
      "text/plain": [
       "<duckdb.DuckDBPyConnection at 0x7f7cc01432b0>"
      ]
     },
     "execution_count": 11,
     "metadata": {},
     "output_type": "execute_result"
    }
   ],
   "source": [
    "# -------------------------------------------------\n",
    "# 05 Company\n",
    "# -------------------------------------------------\n",
    "sql1 = f\"\"\"\n",
    "drop table if exists Company;\n",
    "\"\"\"\n",
    "\n",
    "sql2 = f\"\"\"\n",
    "CREATE TABLE Company (\n",
    "    id bigint PRIMARY KEY,\n",
    "    name varchar(256) NOT NULL,\n",
    "    url varchar(256) NOT NULL,\n",
    "    LocationPlaceId bigint NOT NULL\n",
    ");\n",
    "\"\"\"\n",
    "\n",
    "sql3 = f\"\"\"\n",
    "insert into Company\n",
    "  select * from read_csv('{data_dir}/Company.csv', delim='|', header=True, AUTO_DETECT=TRUE);\n",
    "\"\"\"\n",
    "\n",
    "con.execute(sql1)\n",
    "con.execute(sql2)\n",
    "con.execute(sql3)\n"
   ]
  },
  {
   "cell_type": "code",
   "execution_count": 12,
   "id": "a1a41276",
   "metadata": {},
   "outputs": [
    {
     "data": {
      "text/plain": [
       "<duckdb.DuckDBPyConnection at 0x7f7cc01432b0>"
      ]
     },
     "execution_count": 12,
     "metadata": {},
     "output_type": "execute_result"
    }
   ],
   "source": [
    "# -------------------------------------------------\n",
    "# 06 University\n",
    "# -------------------------------------------------\n",
    "sql1 = f\"\"\"\n",
    "drop table if exists University;\n",
    "\"\"\"\n",
    "\n",
    "sql2 = f\"\"\"\n",
    "CREATE TABLE University (\n",
    "    id bigint PRIMARY KEY,\n",
    "    name varchar(256) NOT NULL,\n",
    "    url varchar(256) NOT NULL,\n",
    "    LocationPlaceId bigint NOT NULL\n",
    ");\n",
    "\"\"\"\n",
    "\n",
    "sql3 = f\"\"\"\n",
    "insert into University\n",
    "  select * from read_csv('{data_dir}/University.csv', delim='|', header=True, AUTO_DETECT=TRUE);\n",
    "\"\"\"\n",
    "\n",
    "con.execute(sql1)\n",
    "con.execute(sql2)\n",
    "con.execute(sql3)\n"
   ]
  },
  {
   "cell_type": "code",
   "execution_count": 13,
   "id": "06bbb013",
   "metadata": {},
   "outputs": [
    {
     "data": {
      "text/plain": [
       "<duckdb.DuckDBPyConnection at 0x7f7cc01432b0>"
      ]
     },
     "execution_count": 13,
     "metadata": {},
     "output_type": "execute_result"
    }
   ],
   "source": [
    "# -------------------------------------------------\n",
    "# 07 Person\n",
    "# -------------------------------------------------\n",
    "sql1 = f\"\"\"\n",
    "drop table if exists Person;\n",
    "\"\"\"\n",
    "\n",
    "sql2 = f\"\"\"\n",
    "CREATE TABLE Person (\n",
    "    creationDate timestamp with time zone NOT NULL,\n",
    "    id bigint PRIMARY KEY,\n",
    "    firstName text NOT NULL,\n",
    "    lastName text NOT NULL,\n",
    "    gender text NOT NULL,\n",
    "    birthday date NOT NULL,\n",
    "    locationIP text NOT NULL,\n",
    "    browserUsed text NOT NULL,\n",
    "    LocationCityId bigint NOT NULL,\n",
    "    speaks text NOT NULL,\n",
    "    email text NOT NULL\n",
    ")\n",
    "\"\"\"\n",
    "\n",
    "sql3 = f\"\"\"\n",
    "insert into Person\n",
    "  select * from read_csv('{data_dir}/Person.csv', delim='|', header=True, AUTO_DETECT=TRUE);\n",
    "\"\"\"\n",
    "\n",
    "con.execute(sql1)\n",
    "con.execute(sql2)\n",
    "con.execute(sql3)"
   ]
  },
  {
   "cell_type": "code",
   "execution_count": 14,
   "id": "90469c80",
   "metadata": {},
   "outputs": [
    {
     "data": {
      "text/plain": [
       "<duckdb.DuckDBPyConnection at 0x7f7cc01432b0>"
      ]
     },
     "execution_count": 14,
     "metadata": {},
     "output_type": "execute_result"
    }
   ],
   "source": [
    "# -------------------------------------------------\n",
    "# 08 Forum\n",
    "# -------------------------------------------------\n",
    "sql1 = f\"\"\"\n",
    "drop table if exists Forum;\n",
    "\"\"\"\n",
    "\n",
    "sql2 = f\"\"\"\n",
    "CREATE TABLE Forum (\n",
    "    creationDate timestamp with time zone NOT NULL,\n",
    "    id bigint PRIMARY KEY,\n",
    "    title text NOT NULL,\n",
    "    ModeratorPersonId bigint -- can be null as its cardinality is 0..1\n",
    ");\n",
    "\"\"\"\n",
    "\n",
    "sql3 = f\"\"\"\n",
    "insert into Forum\n",
    "  select * from read_csv('{data_dir}/Forum.csv', delim='|', header=True, AUTO_DETECT=TRUE);\n",
    "\"\"\"\n",
    "\n",
    "con.execute(sql1)\n",
    "con.execute(sql2)\n",
    "con.execute(sql3)"
   ]
  },
  {
   "cell_type": "code",
   "execution_count": 15,
   "id": "bde54abd",
   "metadata": {},
   "outputs": [
    {
     "data": {
      "text/plain": [
       "<duckdb.DuckDBPyConnection at 0x7f7cc01432b0>"
      ]
     },
     "execution_count": 15,
     "metadata": {},
     "output_type": "execute_result"
    }
   ],
   "source": [
    "# -------------------------------------------------\n",
    "# 09 Forum_hasMember_Person\n",
    "# -------------------------------------------------\n",
    "sql1 = f\"\"\"\n",
    "drop table if exists Forum_hasMember_Person;\n",
    "\"\"\"\n",
    "\n",
    "sql2 = f\"\"\"\n",
    "CREATE TABLE Forum_hasMember_Person (\n",
    "    creationDate timestamp with time zone NOT NULL,\n",
    "    ForumId bigint NOT NULL,\n",
    "    PersonId bigint NOT NULL\n",
    ");\n",
    "\"\"\"\n",
    "\n",
    "sql3 = f\"\"\"\n",
    "insert into Forum_hasMember_Person\n",
    "  select * from read_csv('{data_dir}/Forum_hasMember_Person.csv', delim='|', header=True, AUTO_DETECT=TRUE);\n",
    "\"\"\"\n",
    "\n",
    "con.execute(sql1)\n",
    "con.execute(sql2)\n",
    "con.execute(sql3)"
   ]
  },
  {
   "cell_type": "code",
   "execution_count": 16,
   "id": "665d78de",
   "metadata": {},
   "outputs": [
    {
     "data": {
      "text/plain": [
       "<duckdb.DuckDBPyConnection at 0x7f7cc01432b0>"
      ]
     },
     "execution_count": 16,
     "metadata": {},
     "output_type": "execute_result"
    }
   ],
   "source": [
    "# -------------------------------------------------\n",
    "# 10 Forum_hasTag_Tag\n",
    "# -------------------------------------------------\n",
    "sql1 = f\"\"\"\n",
    "drop table if exists Forum_hasTag_Tag;\n",
    "\"\"\"\n",
    "\n",
    "sql2 = f\"\"\"\n",
    "CREATE TABLE Forum_hasTag_Tag (\n",
    "    creationDate timestamp with time zone NOT NULL,\n",
    "    ForumId bigint NOT NULL,\n",
    "    TagId bigint NOT NULL\n",
    ");\n",
    "\"\"\"\n",
    "\n",
    "sql3 = f\"\"\"\n",
    "insert into Forum_hasTag_Tag\n",
    "  select * from read_csv('{data_dir}/Forum_hasTag_Tag.csv', delim='|', header=True, AUTO_DETECT=TRUE);\n",
    "\"\"\"\n",
    "\n",
    "con.execute(sql1)\n",
    "con.execute(sql2)\n",
    "con.execute(sql3)"
   ]
  },
  {
   "cell_type": "code",
   "execution_count": 17,
   "id": "85f9cdb6",
   "metadata": {},
   "outputs": [
    {
     "data": {
      "text/plain": [
       "<duckdb.DuckDBPyConnection at 0x7f7cc01432b0>"
      ]
     },
     "execution_count": 17,
     "metadata": {},
     "output_type": "execute_result"
    }
   ],
   "source": [
    "# -------------------------------------------------\n",
    "# 11 Person_hasInterest_Tag\n",
    "# -------------------------------------------------\n",
    "sql1 = f\"\"\"\n",
    "drop table if exists Person_hasInterest_Tag;\n",
    "\"\"\"\n",
    "\n",
    "sql2 = f\"\"\"\n",
    "CREATE TABLE Person_hasInterest_Tag (\n",
    "    creationDate timestamp with time zone NOT NULL,\n",
    "    PersonId bigint NOT NULL,\n",
    "    TagId bigint NOT NULL\n",
    ");\n",
    "\"\"\"\n",
    "\n",
    "sql3 = f\"\"\"\n",
    "insert into Person_hasInterest_Tag\n",
    "  select * from read_csv('{data_dir}/Person_hasInterest_Tag.csv', delim='|', header=True, AUTO_DETECT=TRUE);\n",
    "\"\"\"\n",
    "\n",
    "con.execute(sql1)\n",
    "con.execute(sql2)\n",
    "con.execute(sql3)"
   ]
  },
  {
   "cell_type": "code",
   "execution_count": 18,
   "id": "e7f76486",
   "metadata": {},
   "outputs": [
    {
     "data": {
      "text/plain": [
       "<duckdb.DuckDBPyConnection at 0x7f7cc01432b0>"
      ]
     },
     "execution_count": 18,
     "metadata": {},
     "output_type": "execute_result"
    }
   ],
   "source": [
    "# -------------------------------------------------\n",
    "# 12 Person_studyAt_University\n",
    "# -------------------------------------------------\n",
    "sql1 = f\"\"\"\n",
    "drop table if exists Person_studyAt_University;\n",
    "\"\"\"\n",
    "\n",
    "sql2 = f\"\"\"\n",
    "CREATE TABLE Person_studyAt_University (\n",
    "    creationDate timestamp with time zone NOT NULL,\n",
    "    PersonId bigint NOT NULL,\n",
    "    UniversityId bigint NOT NULL,\n",
    "    classYear int NOT NULL\n",
    ");\n",
    "\"\"\"\n",
    "\n",
    "sql3 = f\"\"\"\n",
    "insert into Person_studyAt_University\n",
    "  select * from read_csv('{data_dir}/Person_studyAt_University.csv', delim='|', header=True, AUTO_DETECT=TRUE);\n",
    "\"\"\"\n",
    "\n",
    "con.execute(sql1)\n",
    "con.execute(sql2)\n",
    "con.execute(sql3)"
   ]
  },
  {
   "cell_type": "code",
   "execution_count": 19,
   "id": "d4a19e84",
   "metadata": {},
   "outputs": [
    {
     "data": {
      "text/plain": [
       "<duckdb.DuckDBPyConnection at 0x7f7cc01432b0>"
      ]
     },
     "execution_count": 19,
     "metadata": {},
     "output_type": "execute_result"
    }
   ],
   "source": [
    "# -------------------------------------------------\n",
    "# 13 Person_workAt_Company\n",
    "# -------------------------------------------------\n",
    "sql1 = f\"\"\"\n",
    "drop table if exists Person_workAt_Company;\n",
    "\"\"\"\n",
    "\n",
    "sql2 = f\"\"\"\n",
    "CREATE TABLE Person_workAt_Company (\n",
    "    creationDate timestamp with time zone NOT NULL,\n",
    "    PersonId bigint NOT NULL,\n",
    "    CompanyId bigint NOT NULL,\n",
    "    workFrom int NOT NULL\n",
    ");\n",
    "\"\"\"\n",
    "\n",
    "sql3 = f\"\"\"\n",
    "insert into Person_workAt_Company\n",
    "  select * from read_csv('{data_dir}/Person_workAt_Company.csv', delim='|', header=True, AUTO_DETECT=TRUE);\n",
    "\"\"\"\n",
    "\n",
    "con.execute(sql1)\n",
    "con.execute(sql2)\n",
    "con.execute(sql3)"
   ]
  },
  {
   "cell_type": "code",
   "execution_count": 20,
   "id": "e1258a8e",
   "metadata": {},
   "outputs": [
    {
     "data": {
      "text/plain": [
       "<duckdb.DuckDBPyConnection at 0x7f7cc01432b0>"
      ]
     },
     "execution_count": 20,
     "metadata": {},
     "output_type": "execute_result"
    }
   ],
   "source": [
    "# -------------------------------------------------\n",
    "# 14 Person_knows_Person\n",
    "# -------------------------------------------------\n",
    "sql1 = f\"\"\"\n",
    "drop table if exists Person_knows_Person;\n",
    "\"\"\"\n",
    "\n",
    "sql2 = f\"\"\"\n",
    "CREATE TABLE Person_knows_Person (\n",
    "    creationDate timestamp with time zone NOT NULL,\n",
    "    Person1id bigint NOT NULL,\n",
    "    Person2id bigint NOT NULL,\n",
    "    PRIMARY KEY (Person1id, Person2id)\n",
    "); \n",
    "\"\"\"\n",
    "\n",
    "sql3 = f\"\"\"\n",
    "insert into Person_knows_Person\n",
    "  select * from read_csv('{data_dir}/Person_knows_Person.csv', delim='|', header=True, AUTO_DETECT=TRUE, SAMPLE_SIZE=-1);\n",
    "\"\"\"\n",
    "\n",
    "con.execute(sql1)\n",
    "con.execute(sql2)\n",
    "con.execute(sql3)"
   ]
  },
  {
   "cell_type": "code",
   "execution_count": 21,
   "id": "fec7810d",
   "metadata": {},
   "outputs": [
    {
     "data": {
      "application/vnd.jupyter.widget-view+json": {
       "model_id": "b0c75257669949eca2acc4b94fb1e2d6",
       "version_major": 2,
       "version_minor": 0
      },
      "text/plain": [
       "FloatProgress(value=0.0, layout=Layout(width='auto'), style=ProgressStyle(bar_color='black'))"
      ]
     },
     "metadata": {},
     "output_type": "display_data"
    },
    {
     "data": {
      "text/plain": [
       "<duckdb.DuckDBPyConnection at 0x7f7cc01432b0>"
      ]
     },
     "execution_count": 21,
     "metadata": {},
     "output_type": "execute_result"
    }
   ],
   "source": [
    "# -------------------------------------------------\n",
    "# 15 Message\n",
    "# -------------------------------------------------\n",
    "sql1 = f\"\"\"\n",
    "drop table if exists Message;\n",
    "\"\"\"\n",
    "\n",
    "sql2 = f\"\"\"\n",
    "CREATE TABLE Message (\n",
    "    creationDate timestamp with time zone NOT NULL,\n",
    "    id bigint PRIMARY KEY,\n",
    "    language varchar(80),\n",
    "    content varchar(2000),\n",
    "    imageFile varchar(80),\n",
    "    locationIP varchar(80) NOT NULL,\n",
    "    browserUsed varchar(80) NOT NULL,\n",
    "    length int NOT NULL,\n",
    "    CreatorPersonId bigint NOT NULL,\n",
    "    ContainerForumId bigint,\n",
    "    LocationCountryId bigint NOT NULL,\n",
    "    ParentMessageId bigint\n",
    ");\n",
    "\"\"\"\n",
    "\n",
    "sql3 = f\"\"\"\n",
    "insert into Message\n",
    "  select * from read_csv('{data_dir}/Message.csv', delim='|', header=True, AUTO_DETECT=TRUE);\n",
    "\"\"\"\n",
    "\n",
    "con.execute(sql1)\n",
    "con.execute(sql2)\n",
    "con.execute(sql3)"
   ]
  },
  {
   "cell_type": "code",
   "execution_count": 22,
   "id": "0c25df4e",
   "metadata": {},
   "outputs": [
    {
     "data": {
      "text/plain": [
       "<duckdb.DuckDBPyConnection at 0x7f7cc01432b0>"
      ]
     },
     "execution_count": 22,
     "metadata": {},
     "output_type": "execute_result"
    }
   ],
   "source": [
    "# -------------------------------------------------\n",
    "# 16 Person_likes_Message\n",
    "# -------------------------------------------------\n",
    "sql1 = f\"\"\"\n",
    "drop table if exists Person_likes_Message;\n",
    "\"\"\"\n",
    "\n",
    "sql2 = f\"\"\"\n",
    "CREATE TABLE Person_likes_Message (\n",
    "    creationDate timestamp with time zone NOT NULL,\n",
    "    PersonId bigint NOT NULL,\n",
    "    MessageId bigint NOT NULL\n",
    ");\n",
    "\"\"\"\n",
    "\n",
    "sql3 = f\"\"\"\n",
    "insert into Person_likes_Message\n",
    "  select * from read_csv('{data_dir}/Person_likes_Message.csv', delim='|', header=True, AUTO_DETECT=TRUE);\n",
    "\"\"\"\n",
    "\n",
    "con.execute(sql1)\n",
    "con.execute(sql2)\n",
    "con.execute(sql3)"
   ]
  },
  {
   "cell_type": "code",
   "execution_count": 23,
   "id": "d0cbd3e0",
   "metadata": {},
   "outputs": [
    {
     "data": {
      "text/plain": [
       "<duckdb.DuckDBPyConnection at 0x7f7cc01432b0>"
      ]
     },
     "execution_count": 23,
     "metadata": {},
     "output_type": "execute_result"
    }
   ],
   "source": [
    "# -------------------------------------------------\n",
    "# 17 Message_hasTag_Tag\n",
    "# -------------------------------------------------\n",
    "sql1 = f\"\"\"\n",
    "drop table if exists Message_hasTag_Tag;\n",
    "\"\"\"\n",
    "\n",
    "sql2 = f\"\"\"\n",
    "CREATE TABLE Message_hasTag_Tag (\n",
    "    creationDate timestamp with time zone NOT NULL,\n",
    "    MessageId bigint NOT NULL,\n",
    "    TagId bigint NOT NULL\n",
    ");\n",
    "\"\"\"\n",
    "\n",
    "sql3 = f\"\"\"\n",
    "insert into Message_hasTag_Tag\n",
    "  select * from read_csv('{data_dir}/Message_hasTag_Tag.csv', delim='|', header=True, AUTO_DETECT=TRUE);\n",
    "\"\"\"\n",
    "\n",
    "con.execute(sql1)\n",
    "con.execute(sql2)\n",
    "con.execute(sql3)"
   ]
  },
  {
   "cell_type": "code",
   "execution_count": 25,
   "id": "2da6d1f1",
   "metadata": {},
   "outputs": [],
   "source": [
    "con.close()"
   ]
  }
 ],
 "metadata": {
  "kernelspec": {
   "display_name": "Python 3 (ipykernel)",
   "language": "python",
   "name": "python3"
  },
  "language_info": {
   "codemirror_mode": {
    "name": "ipython",
    "version": 3
   },
   "file_extension": ".py",
   "mimetype": "text/x-python",
   "name": "python",
   "nbconvert_exporter": "python",
   "pygments_lexer": "ipython3",
   "version": "3.11.4"
  }
 },
 "nbformat": 4,
 "nbformat_minor": 5
}
