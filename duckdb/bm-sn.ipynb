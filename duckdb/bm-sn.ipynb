{
 "cells": [
  {
   "cell_type": "code",
   "execution_count": 4,
   "metadata": {},
   "outputs": [],
   "source": [
    "import duckdb\n",
    "con = duckdb.connect(database='sozmed.duckdb', read_only=True)\n",
    "\n",
    "def quote(s):\n",
    "  return f\"'{s}'\""
   ]
  },
  {
   "attachments": {},
   "cell_type": "markdown",
   "metadata": {},
   "source": [
    "## Interactive / complex / 13"
   ]
  },
  {
   "cell_type": "code",
   "execution_count": 3,
   "metadata": {},
   "outputs": [
    {
     "ename": "InvalidInputException",
     "evalue": "Invalid Input Error: Attempting to execute an unsuccessful or closed pending query result\nError: Not implemented Error: UNIONS are not supported in recursive CTEs yet",
     "output_type": "error",
     "traceback": [
      "\u001b[1;31m---------------------------------------------------------------------------\u001b[0m",
      "\u001b[1;31mInvalidInputException\u001b[0m                     Traceback (most recent call last)",
      "Cell \u001b[1;32mIn[3], line 50\u001b[0m\n\u001b[0;32m      4\u001b[0m sql \u001b[39m=\u001b[39m \u001b[39mf\u001b[39m\u001b[39m\"\"\"\u001b[39m\n\u001b[0;32m      5\u001b[0m \u001b[39mWITH RECURSIVE\u001b[39m\n\u001b[0;32m      6\u001b[0m \u001b[39m-- Bidirectional breadth first search\u001b[39m\n\u001b[1;32m   (...)\u001b[0m\n\u001b[0;32m     47\u001b[0m \n\u001b[0;32m     48\u001b[0m \u001b[39m\"\"\"\u001b[39m\n\u001b[0;32m     49\u001b[0m \u001b[39m# print(sql)\u001b[39;00m\n\u001b[1;32m---> 50\u001b[0m con\u001b[39m.\u001b[39;49mexecute(sql)\n",
      "\u001b[1;31mInvalidInputException\u001b[0m: Invalid Input Error: Attempting to execute an unsuccessful or closed pending query result\nError: Not implemented Error: UNIONS are not supported in recursive CTEs yet"
     ]
    }
   ],
   "source": [
    "person1Id = 100\n",
    "person2Id = 200\n",
    "\n",
    "sql = f\"\"\"\n",
    "WITH RECURSIVE\n",
    "-- Bidirectional breadth first search\n",
    "bfs(dir, node, depth) AS (\n",
    "    SELECT dd,nn,ll FROM (VALUES (false, {person1Id}::bigint, 0), (true, {person2Id}::bigint, 0)) t(dd,nn,ll)\n",
    "    UNION ALL\n",
    "    (\n",
    "        with\n",
    "        rec AS (SELECT dir, node, depth FROM bfs),\n",
    "        md AS (SELECT max(depth) AS d FROM rec),\n",
    "        last AS (SELECT dir, node, depth FROM rec WHERE depth = (SELECT d FROM md)),\n",
    "        new AS (\n",
    "            SELECT dir, pkp.person2id AS dst, min(depth) + 1 AS md\n",
    "            FROM last, person_knows_person pkp\n",
    "            WHERE last.node = pkp.person1id AND pkp.person2id not in (SELECT node FROM rec WHERE last.dir = rec.dir)\n",
    "            group by dir, pkp.person2id\n",
    "        )\n",
    "        SELECT dir, dst, md\n",
    "        FROM\n",
    "            (SELECT dir, dst, md FROM new\n",
    "            union all\n",
    "            SELECT dir, node, depth\n",
    "            FROM rec) t\n",
    "        WHERE true \n",
    "            AND EXISTS (SELECT * FROM new)\n",
    "            AND NOT EXISTS (\n",
    "                    SELECT *\n",
    "                    FROM last r1, rec r2\n",
    "                    WHERE r1.dir = true AND r2.dir = false AND r1.node = r2.node\n",
    "                )\n",
    "\n",
    "    )\n",
    "),\n",
    "md AS (SELECT max(depth) AS d FROM bfs),\n",
    "found(depth) AS (\n",
    "    SELECT min(r1.depth + r2.depth)\n",
    "    FROM bfs r1, bfs r2\n",
    "    WHERE r1.depth = (SELECT d FROM md) and\n",
    "          r1.dir = true AND r2.dir = false AND r1.node = r2.node\n",
    "\n",
    ")\n",
    "SELECT coalesce((SELECT depth FROM found), -1)\n",
    ";\n",
    "\n",
    "\"\"\"\n",
    "# print(sql)\n",
    "con.execute(sql)"
   ]
  },
  {
   "attachments": {},
   "cell_type": "markdown",
   "metadata": {},
   "source": [
    "## BI Read 17"
   ]
  },
  {
   "cell_type": "code",
   "execution_count": 5,
   "metadata": {},
   "outputs": [],
   "source": [
    "tag = quote(\"Slavoj_Žižek\")\n",
    "delta = 4\n",
    "\n",
    "sql = f\"\"\"\n",
    "WITH MyMessage as (\n",
    "    SELECT *\n",
    "    FROM Message\n",
    "    WHERE Id in (SELECT Id FROM Message_hasTag_Tag WHERE TagId IN (SELECT id FROM Tag WHERE Tag.name = {tag}))\n",
    ")\n",
    "SELECT Message1.CreatorPersonId AS \"person1.id\", count(DISTINCT Message2.Id) AS messageCount\n",
    "FROM MyMessage Message1\n",
    "-- (message2 <date filtering>)\n",
    "JOIN MyMessage Message2\n",
    " ON (Message1.creationDate + '{delta} hour'::interval) < Message2.creationDate\n",
    "JOIN MyMessage Comment\n",
    " ON Comment.ParentMessageId = Message2.Id\n",
    "JOIN Forum_hasMember_Person Forum_hasMember_Person2\n",
    "  ON Forum_hasMember_Person2.ForumId = Message1.ContainerForumId -- forum1\n",
    " AND Forum_hasMember_Person2.PersonId = Comment.CreatorPersonId -- person2\n",
    "JOIN Forum_hasMember_Person Forum_hasMember_Person3\n",
    "  ON Forum_hasMember_Person3.ForumId = Message1.ContainerForumId -- forum1\n",
    " AND Forum_hasMember_Person3.PersonId = Message2.CreatorPersonId -- person3\n",
    "WHERE Message1.ContainerForumId <> Message2.ContainerForumId\n",
    "  -- person2 <> person3\n",
    "  AND Forum_hasMember_Person2.PersonId <> Forum_hasMember_Person3.PersonId\n",
    "  AND NOT EXISTS (SELECT 1\n",
    "                  FROM Forum_hasMember_Person Forum_hasMember_Person1\n",
    "                  WHERE Forum_hasMember_Person1.ForumId = Message2.ContainerForumId -- forum2\n",
    "                    AND Forum_hasMember_Person1.PersonId = Message1.CreatorPersonId -- person1\n",
    "                 )\n",
    "GROUP BY Message1.CreatorPersonId\n",
    "ORDER BY messageCount DESC, Message1.CreatorPersonId ASC\n",
    "LIMIT 10\n",
    ";\n",
    "\"\"\"\n",
    "# print(sql)\n",
    "con.execute(sql)"
   ]
  }
 ],
 "metadata": {
  "kernelspec": {
   "display_name": "base",
   "language": "python",
   "name": "python3"
  },
  "language_info": {
   "codemirror_mode": {
    "name": "ipython",
    "version": 3
   },
   "file_extension": ".py",
   "mimetype": "text/x-python",
   "name": "python",
   "nbconvert_exporter": "python",
   "pygments_lexer": "ipython3",
   "version": "3.10.9"
  },
  "orig_nbformat": 4,
  "vscode": {
   "interpreter": {
    "hash": "84befbdb8ec6d07ca1bac7b6c3fe6932c3fbd9e23c33bee5b4b4ab096ab33440"
   }
  }
 },
 "nbformat": 4,
 "nbformat_minor": 2
}
