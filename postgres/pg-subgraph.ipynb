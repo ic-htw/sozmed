{
 "cells": [
  {
   "cell_type": "code",
   "execution_count": 1,
   "metadata": {},
   "outputs": [],
   "source": [
    "import pandas as pd\n",
    "from sqlalchemy import create_engine, text\n",
    "import cred_pg as c"
   ]
  },
  {
   "cell_type": "code",
   "execution_count": 2,
   "metadata": {},
   "outputs": [],
   "source": [
    "engine = create_engine(\n",
    "    f'postgresql://{c.pg_userid}:{c.pg_password}@{c.pg_host}/{c.pg_db}', \n",
    "    connect_args = {'options': '-c search_path=usozmed,public', 'keepalives_idle': 120},\n",
    "    pool_size=1, \n",
    "    max_overflow=0,\n",
    "    execution_options={ 'isolation_level': 'AUTOCOMMIT' }\n",
    ")"
   ]
  },
  {
   "cell_type": "code",
   "execution_count": 3,
   "metadata": {},
   "outputs": [],
   "source": [
    "def exe(sql):\n",
    "    with engine.connect() as con:\n",
    "        return pd.read_sql_query(text(sql), con)"
   ]
  },
  {
   "attachments": {},
   "cell_type": "markdown",
   "metadata": {},
   "source": [
    "## Q1"
   ]
  },
  {
   "cell_type": "code",
   "execution_count": 4,
   "metadata": {},
   "outputs": [
    {
     "data": {
      "text/html": [
       "<div>\n",
       "<style scoped>\n",
       "    .dataframe tbody tr th:only-of-type {\n",
       "        vertical-align: middle;\n",
       "    }\n",
       "\n",
       "    .dataframe tbody tr th {\n",
       "        vertical-align: top;\n",
       "    }\n",
       "\n",
       "    .dataframe thead th {\n",
       "        text-align: right;\n",
       "    }\n",
       "</style>\n",
       "<table border=\"1\" class=\"dataframe\">\n",
       "  <thead>\n",
       "    <tr style=\"text-align: right;\">\n",
       "      <th></th>\n",
       "      <th>count</th>\n",
       "    </tr>\n",
       "  </thead>\n",
       "  <tbody>\n",
       "    <tr>\n",
       "      <th>0</th>\n",
       "      <td>155615588</td>\n",
       "    </tr>\n",
       "  </tbody>\n",
       "</table>\n",
       "</div>"
      ],
      "text/plain": [
       "       count\n",
       "0  155615588"
      ]
     },
     "execution_count": 4,
     "metadata": {},
     "output_type": "execute_result"
    }
   ],
   "source": [
    "sql = \"\"\"\n",
    "select count(*)\n",
    "from \n",
    "  country co\n",
    "  join city ci on ci.partofcountryid = co.id\n",
    "  join person p on p.locationcityid = ci.id\n",
    "  join forum_hasmember_person fmbr on fmbr.personid = p.id\n",
    "  join forum f on f.id = fmbr.forumid\n",
    "  join message msgp on msgp.containerforumid = f.id\n",
    "  join message msgc on msgc.parentmessageid = msgp.id\n",
    "  join message_hastag_tag mtag on mtag.messageid = msgc.id\n",
    "  join tag t on t.id = mtag.tagid\n",
    "  join tagclass tc on tc.id = t.typetagclassid\n",
    "\"\"\"\n",
    "exe(sql) # 155.615.588, 10.5s"
   ]
  },
  {
   "attachments": {},
   "cell_type": "markdown",
   "metadata": {},
   "source": [
    "## Q2"
   ]
  },
  {
   "cell_type": "code",
   "execution_count": 5,
   "metadata": {},
   "outputs": [
    {
     "data": {
      "text/html": [
       "<div>\n",
       "<style scoped>\n",
       "    .dataframe tbody tr th:only-of-type {\n",
       "        vertical-align: middle;\n",
       "    }\n",
       "\n",
       "    .dataframe tbody tr th {\n",
       "        vertical-align: top;\n",
       "    }\n",
       "\n",
       "    .dataframe thead th {\n",
       "        text-align: right;\n",
       "    }\n",
       "</style>\n",
       "<table border=\"1\" class=\"dataframe\">\n",
       "  <thead>\n",
       "    <tr style=\"text-align: right;\">\n",
       "      <th></th>\n",
       "      <th>count</th>\n",
       "    </tr>\n",
       "  </thead>\n",
       "  <tbody>\n",
       "    <tr>\n",
       "      <th>0</th>\n",
       "      <td>296644</td>\n",
       "    </tr>\n",
       "  </tbody>\n",
       "</table>\n",
       "</div>"
      ],
      "text/plain": [
       "    count\n",
       "0  296644"
      ]
     },
     "execution_count": 5,
     "metadata": {},
     "output_type": "execute_result"
    }
   ],
   "source": [
    "sql = \"\"\"\n",
    "select count(*)\n",
    "from \n",
    "  person p1\n",
    "  join person_knows_person knows on knows.person1id = p1.id\n",
    "  join person p2 on p2.id = knows.person2id\n",
    "  join message msgc on msgc.creatorpersonid = p1.id\n",
    "  join message msgp on msgp.creatorpersonid = p2.id \n",
    "where msgp.parentmessageid is null and msgc.parentmessageid = msgp.id\n",
    "\"\"\"\n",
    "exe(sql) # 296.644, 0.5s"
   ]
  },
  {
   "attachments": {},
   "cell_type": "markdown",
   "metadata": {},
   "source": [
    "## Q3"
   ]
  },
  {
   "cell_type": "code",
   "execution_count": 6,
   "metadata": {},
   "outputs": [
    {
     "data": {
      "text/html": [
       "<div>\n",
       "<style scoped>\n",
       "    .dataframe tbody tr th:only-of-type {\n",
       "        vertical-align: middle;\n",
       "    }\n",
       "\n",
       "    .dataframe tbody tr th {\n",
       "        vertical-align: top;\n",
       "    }\n",
       "\n",
       "    .dataframe thead th {\n",
       "        text-align: right;\n",
       "    }\n",
       "</style>\n",
       "<table border=\"1\" class=\"dataframe\">\n",
       "  <thead>\n",
       "    <tr style=\"text-align: right;\">\n",
       "      <th></th>\n",
       "      <th>count</th>\n",
       "    </tr>\n",
       "  </thead>\n",
       "  <tbody>\n",
       "    <tr>\n",
       "      <th>0</th>\n",
       "      <td>71354</td>\n",
       "    </tr>\n",
       "  </tbody>\n",
       "</table>\n",
       "</div>"
      ],
      "text/plain": [
       "   count\n",
       "0  71354"
      ]
     },
     "execution_count": 6,
     "metadata": {},
     "output_type": "execute_result"
    }
   ],
   "source": [
    "sql = \"\"\"\n",
    "select count(*)\n",
    "from \n",
    "  country co\n",
    "  join city  ci_a on ci_a.partofcountryid  = co.id\n",
    "  join city  ci_b on ci_b.partofcountryid  = co.id\n",
    "  join city  ci_c on ci_c.partofcountryid  = co.id\n",
    "  join person  p1 on p1.locationcityid  = ci_a.id\n",
    "  join person  p2 on p2.locationcityid  = ci_b.id\n",
    "  join person  p3 on p3.locationcityid  = ci_c.id\n",
    "  join person_knows_person  knows12 on knows12.person1id = p1.id and knows12.person2id = p2.id\n",
    "  join person_knows_person  knows13 on knows13.person1id = p1.id and knows13.person2id = p3.id\n",
    "  join person_knows_person  knows23 on knows23.person1id = p2.id and knows23.person2id = p3.id\n",
    "\"\"\"\n",
    "exe(sql) # 71.354, 3.5s"
   ]
  },
  {
   "attachments": {},
   "cell_type": "markdown",
   "metadata": {},
   "source": [
    "## Q4"
   ]
  },
  {
   "cell_type": "code",
   "execution_count": 7,
   "metadata": {},
   "outputs": [
    {
     "data": {
      "text/html": [
       "<div>\n",
       "<style scoped>\n",
       "    .dataframe tbody tr th:only-of-type {\n",
       "        vertical-align: middle;\n",
       "    }\n",
       "\n",
       "    .dataframe tbody tr th {\n",
       "        vertical-align: top;\n",
       "    }\n",
       "\n",
       "    .dataframe thead th {\n",
       "        text-align: right;\n",
       "    }\n",
       "</style>\n",
       "<table border=\"1\" class=\"dataframe\">\n",
       "  <thead>\n",
       "    <tr style=\"text-align: right;\">\n",
       "      <th></th>\n",
       "      <th>count</th>\n",
       "    </tr>\n",
       "  </thead>\n",
       "  <tbody>\n",
       "    <tr>\n",
       "      <th>0</th>\n",
       "      <td>9853666</td>\n",
       "    </tr>\n",
       "  </tbody>\n",
       "</table>\n",
       "</div>"
      ],
      "text/plain": [
       "     count\n",
       "0  9853666"
      ]
     },
     "execution_count": 7,
     "metadata": {},
     "output_type": "execute_result"
    }
   ],
   "source": [
    "sql = f\"\"\"\n",
    "select count(*)\n",
    "from\n",
    "  tag t\n",
    "  join message_hastag_tag mtag on mtag.tagid = t.id\n",
    "  join message msg on msg.id = mtag.messageid\n",
    "  join person p_creator on p_creator.id = msg.creatorpersonid\n",
    "  join person_likes_message plikes on plikes.messageid = msg.id\n",
    "  join person p_liker on p_liker.id = plikes.personid \n",
    "  join message msgc on msgc.parentmessageid = msg.id\n",
    "\"\"\"\n",
    "exe(sql) # 9.853.666, 1.5s"
   ]
  },
  {
   "attachments": {},
   "cell_type": "markdown",
   "metadata": {},
   "source": [
    "## Q5"
   ]
  },
  {
   "cell_type": "code",
   "execution_count": 8,
   "metadata": {},
   "outputs": [
    {
     "data": {
      "text/html": [
       "<div>\n",
       "<style scoped>\n",
       "    .dataframe tbody tr th:only-of-type {\n",
       "        vertical-align: middle;\n",
       "    }\n",
       "\n",
       "    .dataframe tbody tr th {\n",
       "        vertical-align: top;\n",
       "    }\n",
       "\n",
       "    .dataframe thead th {\n",
       "        text-align: right;\n",
       "    }\n",
       "</style>\n",
       "<table border=\"1\" class=\"dataframe\">\n",
       "  <thead>\n",
       "    <tr style=\"text-align: right;\">\n",
       "      <th></th>\n",
       "      <th>count</th>\n",
       "    </tr>\n",
       "  </thead>\n",
       "  <tbody>\n",
       "    <tr>\n",
       "      <th>0</th>\n",
       "      <td>9679562</td>\n",
       "    </tr>\n",
       "  </tbody>\n",
       "</table>\n",
       "</div>"
      ],
      "text/plain": [
       "     count\n",
       "0  9679562"
      ]
     },
     "execution_count": 8,
     "metadata": {},
     "output_type": "execute_result"
    }
   ],
   "source": [
    "sql = \"\"\"\n",
    "select count(*)\n",
    "from\n",
    "  tag t1\n",
    "  join message_hastag_tag  mtag1 on mtag1.tagid = t1.id\n",
    "  join message msg on msg.id = mtag1.messageid\n",
    "  join message msgc on msgc.id = msg.parentmessageid\n",
    "  join message_hastag_tag mtag2 on mtag2.messageid = msgc.id\n",
    "  join tag t2 on t2.id = mtag2.tagid\n",
    "where t2.id <> t1.id\n",
    "\"\"\"\n",
    "exe(sql) # 9.679.562, 2s"
   ]
  },
  {
   "attachments": {},
   "cell_type": "markdown",
   "metadata": {},
   "source": [
    "## Q6"
   ]
  },
  {
   "cell_type": "code",
   "execution_count": 9,
   "metadata": {},
   "outputs": [
    {
     "data": {
      "text/html": [
       "<div>\n",
       "<style scoped>\n",
       "    .dataframe tbody tr th:only-of-type {\n",
       "        vertical-align: middle;\n",
       "    }\n",
       "\n",
       "    .dataframe tbody tr th {\n",
       "        vertical-align: top;\n",
       "    }\n",
       "\n",
       "    .dataframe thead th {\n",
       "        text-align: right;\n",
       "    }\n",
       "</style>\n",
       "<table border=\"1\" class=\"dataframe\">\n",
       "  <thead>\n",
       "    <tr style=\"text-align: right;\">\n",
       "      <th></th>\n",
       "      <th>count</th>\n",
       "    </tr>\n",
       "  </thead>\n",
       "  <tbody>\n",
       "    <tr>\n",
       "      <th>0</th>\n",
       "      <td>176011014</td>\n",
       "    </tr>\n",
       "  </tbody>\n",
       "</table>\n",
       "</div>"
      ],
      "text/plain": [
       "       count\n",
       "0  176011014"
      ]
     },
     "execution_count": 9,
     "metadata": {},
     "output_type": "execute_result"
    }
   ],
   "source": [
    "sql = \"\"\"\n",
    "select count(*)\n",
    "from \n",
    "  person p1\n",
    "  join person_knows_person knows12 on knows12.person1id = p1.id\n",
    "  join person p2 on p2.id = knows12.person2id\n",
    "  join person_knows_person knows23 on knows23.person1id = p2.id\n",
    "  join person p3 on p3.id = knows23.person2id\n",
    "  join person_hasinterest_tag pintrst on pintrst.personid = p3.id\n",
    "  join tag t on t.id = pintrst.tagid\n",
    "where p3.id <> p1.id\n",
    "\"\"\"\n",
    "exe(sql) # 176.011.014, 7.6s"
   ]
  },
  {
   "attachments": {},
   "cell_type": "markdown",
   "metadata": {},
   "source": [
    "## Q7"
   ]
  },
  {
   "cell_type": "code",
   "execution_count": 10,
   "metadata": {},
   "outputs": [
    {
     "data": {
      "text/html": [
       "<div>\n",
       "<style scoped>\n",
       "    .dataframe tbody tr th:only-of-type {\n",
       "        vertical-align: middle;\n",
       "    }\n",
       "\n",
       "    .dataframe tbody tr th {\n",
       "        vertical-align: top;\n",
       "    }\n",
       "\n",
       "    .dataframe thead th {\n",
       "        text-align: right;\n",
       "    }\n",
       "</style>\n",
       "<table border=\"1\" class=\"dataframe\">\n",
       "  <thead>\n",
       "    <tr style=\"text-align: right;\">\n",
       "      <th></th>\n",
       "      <th>count</th>\n",
       "    </tr>\n",
       "  </thead>\n",
       "  <tbody>\n",
       "    <tr>\n",
       "      <th>0</th>\n",
       "      <td>11577037</td>\n",
       "    </tr>\n",
       "  </tbody>\n",
       "</table>\n",
       "</div>"
      ],
      "text/plain": [
       "      count\n",
       "0  11577037"
      ]
     },
     "execution_count": 10,
     "metadata": {},
     "output_type": "execute_result"
    }
   ],
   "source": [
    "sql = f\"\"\"\n",
    "select count(*)\n",
    "from\n",
    "  tag t\n",
    "  join message_hastag_tag mtag on mtag.tagid = t.id\n",
    "  join message msg on msg.id = mtag.messageid\n",
    "  join person p_creator on p_creator.id = msg.creatorpersonid\n",
    "  left join person_likes_message plikes on plikes.messageid = msg.id\n",
    "  join person p_liker on p_liker.id = plikes.personid \n",
    "  left join message msgc on msgc.parentmessageid = msg.id\n",
    "\"\"\"\n",
    "exe(sql) # 11.577.037, 1.5s"
   ]
  },
  {
   "attachments": {},
   "cell_type": "markdown",
   "metadata": {},
   "source": [
    "## Q8"
   ]
  },
  {
   "cell_type": "code",
   "execution_count": 11,
   "metadata": {},
   "outputs": [
    {
     "data": {
      "text/html": [
       "<div>\n",
       "<style scoped>\n",
       "    .dataframe tbody tr th:only-of-type {\n",
       "        vertical-align: middle;\n",
       "    }\n",
       "\n",
       "    .dataframe tbody tr th {\n",
       "        vertical-align: top;\n",
       "    }\n",
       "\n",
       "    .dataframe thead th {\n",
       "        text-align: right;\n",
       "    }\n",
       "</style>\n",
       "<table border=\"1\" class=\"dataframe\">\n",
       "  <thead>\n",
       "    <tr style=\"text-align: right;\">\n",
       "      <th></th>\n",
       "      <th>count</th>\n",
       "    </tr>\n",
       "  </thead>\n",
       "  <tbody>\n",
       "    <tr>\n",
       "      <th>0</th>\n",
       "      <td>5592152</td>\n",
       "    </tr>\n",
       "  </tbody>\n",
       "</table>\n",
       "</div>"
      ],
      "text/plain": [
       "     count\n",
       "0  5592152"
      ]
     },
     "execution_count": 11,
     "metadata": {},
     "output_type": "execute_result"
    }
   ],
   "source": [
    "sql = \"\"\"\n",
    "select count(*)\n",
    "from\n",
    "  tag t1\n",
    "  join message_hastag_tag  mtag1 on mtag1.tagid = t1.id\n",
    "  join message msg on msg.id = mtag1.messageid\n",
    "  join message msgc on msgc.id = msg.parentmessageid\n",
    "  join message_hastag_tag mtag2 on mtag2.messageid = msgc.id\n",
    "  join tag t2 on t2.id = mtag2.tagid\n",
    "  left join message_hastag_tag mtag3 on mtag3.tagid = t1.id and mtag3.messageid = msgc.id\n",
    "where t2.id <> t1.id and mtag3.messageid is null\n",
    "\"\"\"\n",
    "exe(sql) # 5.592.152, 3s"
   ]
  },
  {
   "attachments": {},
   "cell_type": "markdown",
   "metadata": {},
   "source": [
    "## Q9"
   ]
  },
  {
   "cell_type": "code",
   "execution_count": 12,
   "metadata": {},
   "outputs": [
    {
     "data": {
      "text/html": [
       "<div>\n",
       "<style scoped>\n",
       "    .dataframe tbody tr th:only-of-type {\n",
       "        vertical-align: middle;\n",
       "    }\n",
       "\n",
       "    .dataframe tbody tr th {\n",
       "        vertical-align: top;\n",
       "    }\n",
       "\n",
       "    .dataframe thead th {\n",
       "        text-align: right;\n",
       "    }\n",
       "</style>\n",
       "<table border=\"1\" class=\"dataframe\">\n",
       "  <thead>\n",
       "    <tr style=\"text-align: right;\">\n",
       "      <th></th>\n",
       "      <th>count</th>\n",
       "    </tr>\n",
       "  </thead>\n",
       "  <tbody>\n",
       "    <tr>\n",
       "      <th>0</th>\n",
       "      <td>169140023</td>\n",
       "    </tr>\n",
       "  </tbody>\n",
       "</table>\n",
       "</div>"
      ],
      "text/plain": [
       "       count\n",
       "0  169140023"
      ]
     },
     "execution_count": 12,
     "metadata": {},
     "output_type": "execute_result"
    }
   ],
   "source": [
    "sql = \"\"\"\n",
    "select count(*)\n",
    "from \n",
    "  person p1\n",
    "  join person_knows_person knows12 on knows12.person1id = p1.id\n",
    "  join person p2 on p2.id = knows12.person2id\n",
    "  join person_knows_person knows23 on knows23.person1id = p2.id\n",
    "  join person p3 on p3.id = knows23.person2id\n",
    "  join person_hasinterest_tag pintrst on pintrst.personid = p3.id\n",
    "  join tag t on t.id = pintrst.tagid\n",
    "  left join person_knows_person knows13 on knows13.person1id = p1.id and knows13.person2id = p3.id\n",
    "where p3.id <> p1.id and knows13.person1id is null\n",
    "\"\"\"\n",
    "exe(sql) # 169.140.023, 7.2s"
   ]
  }
 ],
 "metadata": {
  "kernelspec": {
   "display_name": "base",
   "language": "python",
   "name": "python3"
  },
  "language_info": {
   "codemirror_mode": {
    "name": "ipython",
    "version": 3
   },
   "file_extension": ".py",
   "mimetype": "text/x-python",
   "name": "python",
   "nbconvert_exporter": "python",
   "pygments_lexer": "ipython3",
   "version": "3.10.10"
  },
  "orig_nbformat": 4,
  "vscode": {
   "interpreter": {
    "hash": "84befbdb8ec6d07ca1bac7b6c3fe6932c3fbd9e23c33bee5b4b4ab096ab33440"
   }
  }
 },
 "nbformat": 4,
 "nbformat_minor": 2
}
