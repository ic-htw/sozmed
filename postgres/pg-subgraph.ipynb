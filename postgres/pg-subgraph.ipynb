{
 "cells": [
  {
   "cell_type": "code",
   "execution_count": 1,
   "metadata": {},
   "outputs": [],
   "source": [
    "import pandas as pd\n",
    "from sqlalchemy import create_engine, text\n",
    "import cred_pg as c"
   ]
  },
  {
   "cell_type": "code",
   "execution_count": 2,
   "metadata": {},
   "outputs": [],
   "source": [
    "engine = create_engine(\n",
    "    f'postgresql://{c.pg_userid}:{c.pg_password}@{c.pg_host}/{c.pg_db}', \n",
    "    connect_args = {'options': '-c search_path=usozmed,public', 'keepalives_idle': 120},\n",
    "    pool_size=1, \n",
    "    max_overflow=0,\n",
    "    execution_options={ 'isolation_level': 'AUTOCOMMIT' }\n",
    ")"
   ]
  },
  {
   "cell_type": "code",
   "execution_count": 3,
   "metadata": {},
   "outputs": [],
   "source": [
    "def exe(sql):\n",
    "    with engine.connect() as con:\n",
    "        return pd.read_sql_query(text(sql), con)"
   ]
  },
  {
   "attachments": {},
   "cell_type": "markdown",
   "metadata": {},
   "source": [
    "## Q1"
   ]
  },
  {
   "cell_type": "code",
   "execution_count": 4,
   "metadata": {},
   "outputs": [
    {
     "data": {
      "text/html": [
       "<div>\n",
       "<style scoped>\n",
       "    .dataframe tbody tr th:only-of-type {\n",
       "        vertical-align: middle;\n",
       "    }\n",
       "\n",
       "    .dataframe tbody tr th {\n",
       "        vertical-align: top;\n",
       "    }\n",
       "\n",
       "    .dataframe thead th {\n",
       "        text-align: right;\n",
       "    }\n",
       "</style>\n",
       "<table border=\"1\" class=\"dataframe\">\n",
       "  <thead>\n",
       "    <tr style=\"text-align: right;\">\n",
       "      <th></th>\n",
       "      <th>count</th>\n",
       "    </tr>\n",
       "  </thead>\n",
       "  <tbody>\n",
       "    <tr>\n",
       "      <th>0</th>\n",
       "      <td>155615588</td>\n",
       "    </tr>\n",
       "  </tbody>\n",
       "</table>\n",
       "</div>"
      ],
      "text/plain": [
       "       count\n",
       "0  155615588"
      ]
     },
     "execution_count": 4,
     "metadata": {},
     "output_type": "execute_result"
    }
   ],
   "source": [
    "sql = \"\"\"\n",
    "select count(*)\n",
    "from \n",
    "  country co\n",
    "  join city ci on ci.partofcountryid = co.id\n",
    "  join person p on p.locationcityid = ci.id\n",
    "  join forum_hasmember_person fmbr on fmbr.personid = p.id\n",
    "  join forum f on f.id = fmbr.forumid\n",
    "  join message msgp on msgp.containerforumid = f.id\n",
    "  join message msgc on msgc.parentmessageid = msgp.id\n",
    "  join message_hastag_tag mtag on mtag.messageid = msgc.id\n",
    "  join tag t on t.id = mtag.tagid\n",
    "  join tagclass tc on tc.id = t.typetagclassid;\n",
    "\"\"\"\n",
    "exe(sql) # 155.615.588, 10-11 sec"
   ]
  },
  {
   "attachments": {},
   "cell_type": "markdown",
   "metadata": {},
   "source": [
    "## Q2"
   ]
  },
  {
   "cell_type": "code",
   "execution_count": 14,
   "metadata": {},
   "outputs": [
    {
     "data": {
      "text/html": [
       "<div>\n",
       "<style scoped>\n",
       "    .dataframe tbody tr th:only-of-type {\n",
       "        vertical-align: middle;\n",
       "    }\n",
       "\n",
       "    .dataframe tbody tr th {\n",
       "        vertical-align: top;\n",
       "    }\n",
       "\n",
       "    .dataframe thead th {\n",
       "        text-align: right;\n",
       "    }\n",
       "</style>\n",
       "<table border=\"1\" class=\"dataframe\">\n",
       "  <thead>\n",
       "    <tr style=\"text-align: right;\">\n",
       "      <th></th>\n",
       "      <th>count</th>\n",
       "    </tr>\n",
       "  </thead>\n",
       "  <tbody>\n",
       "    <tr>\n",
       "      <th>0</th>\n",
       "      <td>296644</td>\n",
       "    </tr>\n",
       "  </tbody>\n",
       "</table>\n",
       "</div>"
      ],
      "text/plain": [
       "    count\n",
       "0  296644"
      ]
     },
     "execution_count": 14,
     "metadata": {},
     "output_type": "execute_result"
    }
   ],
   "source": [
    "sql = \"\"\"\n",
    "select count(*)\n",
    "from \n",
    "  person p1\n",
    "  join person_knows_person knows on knows.person1id = p1.id\n",
    "  join person p2 on p2.id = knows.person2id\n",
    "  join message msgc on msgc.creatorpersonid = p1.id\n",
    "  join message msgp on msgp.creatorpersonid = p2.id \n",
    "and msgp.parentmessageid is null and msgc.parentmessageid = msgp.id;\n",
    "\"\"\"\n",
    "exe(sql) # 296644, 0.5s"
   ]
  },
  {
   "attachments": {},
   "cell_type": "markdown",
   "metadata": {},
   "source": [
    "## Q3"
   ]
  },
  {
   "cell_type": "code",
   "execution_count": 16,
   "metadata": {},
   "outputs": [
    {
     "data": {
      "text/html": [
       "<div>\n",
       "<style scoped>\n",
       "    .dataframe tbody tr th:only-of-type {\n",
       "        vertical-align: middle;\n",
       "    }\n",
       "\n",
       "    .dataframe tbody tr th {\n",
       "        vertical-align: top;\n",
       "    }\n",
       "\n",
       "    .dataframe thead th {\n",
       "        text-align: right;\n",
       "    }\n",
       "</style>\n",
       "<table border=\"1\" class=\"dataframe\">\n",
       "  <thead>\n",
       "    <tr style=\"text-align: right;\">\n",
       "      <th></th>\n",
       "      <th>count</th>\n",
       "    </tr>\n",
       "  </thead>\n",
       "  <tbody>\n",
       "    <tr>\n",
       "      <th>0</th>\n",
       "      <td>71354</td>\n",
       "    </tr>\n",
       "  </tbody>\n",
       "</table>\n",
       "</div>"
      ],
      "text/plain": [
       "   count\n",
       "0  71354"
      ]
     },
     "execution_count": 16,
     "metadata": {},
     "output_type": "execute_result"
    }
   ],
   "source": [
    "sql = \"\"\"\n",
    "select count(*)\n",
    "from \n",
    "  country co\n",
    "  join city as ci_a on ci_a.partofcountryid  = co.id\n",
    "  join city as ci_b on ci_b.partofcountryid  = co.id\n",
    "  join city as ci_c on ci_c.partofcountryid  = co.id\n",
    "  join person as p1 on p1.locationcityid  = ci_a.id\n",
    "  join person as p2 on p2.locationcityid  = ci_b.id\n",
    "  join person as p3 on p3.locationcityid  = ci_c.id\n",
    "  join person_knows_person as knows_a on knows_a.person1id = p1.id and knows_a.person2id = p2.id\n",
    "  join person_knows_person as knows_b on knows_b.person1id = p1.id and knows_b.person2id = p3.id\n",
    "  join person_knows_person as knows_c on knows_c.person1id = p2.id and knows_c.person2id = p3.id;\n",
    "\"\"\"\n",
    "exe(sql) # 71354, 3.5s"
   ]
  },
  {
   "attachments": {},
   "cell_type": "markdown",
   "metadata": {},
   "source": [
    "## Q4"
   ]
  },
  {
   "cell_type": "code",
   "execution_count": 12,
   "metadata": {},
   "outputs": [
    {
     "data": {
      "text/html": [
       "<div>\n",
       "<style scoped>\n",
       "    .dataframe tbody tr th:only-of-type {\n",
       "        vertical-align: middle;\n",
       "    }\n",
       "\n",
       "    .dataframe tbody tr th {\n",
       "        vertical-align: top;\n",
       "    }\n",
       "\n",
       "    .dataframe thead th {\n",
       "        text-align: right;\n",
       "    }\n",
       "</style>\n",
       "<table border=\"1\" class=\"dataframe\">\n",
       "  <thead>\n",
       "    <tr style=\"text-align: right;\">\n",
       "      <th></th>\n",
       "      <th>count</th>\n",
       "    </tr>\n",
       "  </thead>\n",
       "  <tbody>\n",
       "    <tr>\n",
       "      <th>0</th>\n",
       "      <td>9853666</td>\n",
       "    </tr>\n",
       "  </tbody>\n",
       "</table>\n",
       "</div>"
      ],
      "text/plain": [
       "     count\n",
       "0  9853666"
      ]
     },
     "execution_count": 12,
     "metadata": {},
     "output_type": "execute_result"
    }
   ],
   "source": [
    "sql = f\"\"\"\n",
    "select count(*)\n",
    "from\n",
    "  tag t\n",
    "  join message_hastag_tag mtag on mtag.tagid = t.id\n",
    "  join message msg on msg.id = mtag.messageid\n",
    "  join message msgc on msgc.parentmessageid = msg.id\n",
    "  join person_likes_message plikes on plikes.messageid = msg.id\n",
    "  join person p_liker on p_liker.id = plikes.personid \n",
    "\"\"\"\n",
    "exe(sql) # 9853666, 1.3s"
   ]
  },
  {
   "attachments": {},
   "cell_type": "markdown",
   "metadata": {},
   "source": [
    "## Q5\n",
    "41.6M 3,37 / 0,48"
   ]
  },
  {
   "cell_type": "code",
   "execution_count": 13,
   "metadata": {},
   "outputs": [
    {
     "data": {
      "text/html": [
       "<div>\n",
       "<style scoped>\n",
       "    .dataframe tbody tr th:only-of-type {\n",
       "        vertical-align: middle;\n",
       "    }\n",
       "\n",
       "    .dataframe tbody tr th {\n",
       "        vertical-align: top;\n",
       "    }\n",
       "\n",
       "    .dataframe thead th {\n",
       "        text-align: right;\n",
       "    }\n",
       "</style>\n",
       "<table border=\"1\" class=\"dataframe\">\n",
       "  <thead>\n",
       "    <tr style=\"text-align: right;\">\n",
       "      <th></th>\n",
       "      <th>count</th>\n",
       "    </tr>\n",
       "  </thead>\n",
       "  <tbody>\n",
       "    <tr>\n",
       "      <th>0</th>\n",
       "      <td>9679562</td>\n",
       "    </tr>\n",
       "  </tbody>\n",
       "</table>\n",
       "</div>"
      ],
      "text/plain": [
       "     count\n",
       "0  9679562"
      ]
     },
     "execution_count": 13,
     "metadata": {},
     "output_type": "execute_result"
    }
   ],
   "source": [
    "sql = \"\"\"\n",
    "select count(*)\n",
    "from\n",
    "  tag t1\n",
    "  join message_hastag_tag as mtag1 on mtag1.tagid = t1.id\n",
    "  join message comment on comment.id = mht1.messageid\n",
    "  join message on message.id = comment.parentmessageid\n",
    "  join message_hastag_tag mht2 on mht2.messageid = message.id\n",
    "  where mht1.tagid != mht2.tagid;\n",
    "\"\"\"\n",
    "exe(sql) # 9679562, 1.7s"
   ]
  },
  {
   "attachments": {},
   "cell_type": "markdown",
   "metadata": {},
   "source": [
    "## Q6\n",
    "6.3B 6,50 / 4,76"
   ]
  },
  {
   "cell_type": "code",
   "execution_count": 14,
   "metadata": {},
   "outputs": [
    {
     "data": {
      "text/html": [
       "<div>\n",
       "<style scoped>\n",
       "    .dataframe tbody tr th:only-of-type {\n",
       "        vertical-align: middle;\n",
       "    }\n",
       "\n",
       "    .dataframe tbody tr th {\n",
       "        vertical-align: top;\n",
       "    }\n",
       "\n",
       "    .dataframe thead th {\n",
       "        text-align: right;\n",
       "    }\n",
       "</style>\n",
       "<table border=\"1\" class=\"dataframe\">\n",
       "  <thead>\n",
       "    <tr style=\"text-align: right;\">\n",
       "      <th></th>\n",
       "      <th>count</th>\n",
       "    </tr>\n",
       "  </thead>\n",
       "  <tbody>\n",
       "    <tr>\n",
       "      <th>0</th>\n",
       "      <td>176011014</td>\n",
       "    </tr>\n",
       "  </tbody>\n",
       "</table>\n",
       "</div>"
      ],
      "text/plain": [
       "       count\n",
       "0  176011014"
      ]
     },
     "execution_count": 14,
     "metadata": {},
     "output_type": "execute_result"
    }
   ],
   "source": [
    "sql = f\"\"\"\n",
    "SELECT count(*)\n",
    "FROM Person_knows_Person pkp1\n",
    "JOIN Person_knows_Person pkp2 ON pkp1.Person2Id = pkp2.Person1Id AND pkp1.Person1Id != pkp2.Person2Id\n",
    "JOIN Person_hasInterest_Tag ON pkp2.Person2Id = Person_hasInterest_Tag.personid;\n",
    "\"\"\"\n",
    "exe(sql) # 2.2s"
   ]
  },
  {
   "attachments": {},
   "cell_type": "markdown",
   "metadata": {},
   "source": [
    "## Q7\n",
    "85.2M"
   ]
  },
  {
   "cell_type": "code",
   "execution_count": null,
   "metadata": {},
   "outputs": [],
   "source": [
    "sql = f\"\"\"\n",
    "SELECT count(*)\n",
    "FROM Message_hasTag_Tag mht\n",
    "JOIN Message m on m.Id = mht.MessageId\n",
    "JOIN Person p ON p.id = m.creatorpersonid\n",
    "LEFT JOIN Comment_replyOf_Message ON Comment_replyOf_Message.ParentMessageId = Message_hasTag_Tag.MessageId\n",
    "LEFT JOIN Person_likes_Message ON Person_likes_Message.MessageId = Message_hasTag_Tag.MessageId;\n",
    "\"\"\"\n",
    "exe(sql)"
   ]
  },
  {
   "attachments": {},
   "cell_type": "markdown",
   "metadata": {},
   "source": [
    "## Q8\n",
    "20.8M "
   ]
  },
  {
   "cell_type": "code",
   "execution_count": null,
   "metadata": {},
   "outputs": [],
   "source": [
    "sql = f\"\"\"\n",
    "SELECT count(*)\n",
    "FROM Message_hasTag_Tag\n",
    "JOIN Comment_replyOf_Message\n",
    "ON Message_hasTag_Tag.MessageId = Comment_replyOf_Message.\n",
    "ParentMessageId\n",
    "JOIN Comment_hasTag_Tag AS cht1\n",
    "ON Comment_replyOf_Message.CommentId = cht1.id\n",
    "LEFT JOIN Comment_hasTag_Tag AS cht2\n",
    "ON Message_hasTag_Tag.hasTag_Tag = cht2.hasTag_Tag\n",
    "AND Comment_replyOf_Message.CommentId = cht2.id\n",
    "WHERE Message_hasTag_Tag.hasTag_Tag != cht1.hasTag_Tag\n",
    "AND cht2.hasTag_Tag IS NULL;\n",
    "\"\"\"\n",
    "exe(sql)"
   ]
  },
  {
   "attachments": {},
   "cell_type": "markdown",
   "metadata": {},
   "source": [
    "## Q9\n",
    "6.0B 11,86 / 12,83"
   ]
  },
  {
   "cell_type": "code",
   "execution_count": 20,
   "metadata": {},
   "outputs": [
    {
     "data": {
      "text/html": [
       "<div>\n",
       "<style scoped>\n",
       "    .dataframe tbody tr th:only-of-type {\n",
       "        vertical-align: middle;\n",
       "    }\n",
       "\n",
       "    .dataframe tbody tr th {\n",
       "        vertical-align: top;\n",
       "    }\n",
       "\n",
       "    .dataframe thead th {\n",
       "        text-align: right;\n",
       "    }\n",
       "</style>\n",
       "<table border=\"1\" class=\"dataframe\">\n",
       "  <thead>\n",
       "    <tr style=\"text-align: right;\">\n",
       "      <th></th>\n",
       "      <th>count</th>\n",
       "    </tr>\n",
       "  </thead>\n",
       "  <tbody>\n",
       "    <tr>\n",
       "      <th>0</th>\n",
       "      <td>169140023</td>\n",
       "    </tr>\n",
       "  </tbody>\n",
       "</table>\n",
       "</div>"
      ],
      "text/plain": [
       "       count\n",
       "0  169140023"
      ]
     },
     "execution_count": 20,
     "metadata": {},
     "output_type": "execute_result"
    }
   ],
   "source": [
    "sql = f\"\"\"\n",
    "SELECT count(*)\n",
    "FROM Person_knows_Person pkp1\n",
    "JOIN Person_knows_Person pkp2 ON pkp1.Person2Id = pkp2.Person1Id AND pkp1.Person1Id != pkp2.Person2Id\n",
    "JOIN Person_hasInterest_Tag ON pkp2.Person2Id = Person_hasInterest_Tag.PersonId\n",
    "LEFT JOIN Person_knows_Person pkp3 ON pkp3.Person1Id = pkp1.Person1Id AND pkp3.Person2Id = pkp2.Person2Id\n",
    "WHERE pkp3.Person1Id IS NULL;\n",
    "\"\"\"\n",
    "exe(sql) # 8.8s"
   ]
  }
 ],
 "metadata": {
  "kernelspec": {
   "display_name": "base",
   "language": "python",
   "name": "python3"
  },
  "language_info": {
   "codemirror_mode": {
    "name": "ipython",
    "version": 3
   },
   "file_extension": ".py",
   "mimetype": "text/x-python",
   "name": "python",
   "nbconvert_exporter": "python",
   "pygments_lexer": "ipython3",
   "version": "3.10.10"
  },
  "orig_nbformat": 4,
  "vscode": {
   "interpreter": {
    "hash": "84befbdb8ec6d07ca1bac7b6c3fe6932c3fbd9e23c33bee5b4b4ab096ab33440"
   }
  }
 },
 "nbformat": 4,
 "nbformat_minor": 2
}
