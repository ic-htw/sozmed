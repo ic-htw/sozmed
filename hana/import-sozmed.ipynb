{
 "cells": [
  {
   "cell_type": "code",
   "execution_count": null,
   "metadata": {},
   "outputs": [],
   "source": [
    "from pathlib import Path\n",
    "import pandas as pd\n",
    "from hana_ml import ConnectionContext\n",
    "from hana_ml.dataframe import create_dataframe_from_pandas\n",
    "import cred_hana as c"
   ]
  },
  {
   "cell_type": "code",
   "execution_count": null,
   "metadata": {},
   "outputs": [],
   "source": [
    "csvdir = Path(\"c:/work/lv/uebungen/databases/sozmed/csv/\")\n",
    "csvdir.absolute()"
   ]
  },
  {
   "cell_type": "code",
   "execution_count": null,
   "metadata": {},
   "outputs": [],
   "source": [
    "# -------------------------------------------------\n",
    "# 01 TagClass\n",
    "# -------------------------------------------------\n",
    "df = pd.read_csv(csvdir/\"TagClass.csv\", sep=\"|\")\n",
    "step = 50000\n",
    "i, j = 0, step\n",
    "while i < len(df):\n",
    "    dfx = df.iloc[i:j]\n",
    "    print(f\"{i:6}:{j:6}\")\n",
    "    with ConnectionContext(c.hana_host, c.hana_port, c.hana_userid, c.hana_password) as cc:\n",
    "        create_dataframe_from_pandas(cc, dfx, \"TAGCLASS\", schema=\"SOZMED\", append=True)\n",
    "    i , j = j, j+step\n",
    "print(\"ok\")    "
   ]
  },
  {
   "cell_type": "code",
   "execution_count": null,
   "metadata": {},
   "outputs": [],
   "source": [
    "# -------------------------------------------------\n",
    "# 02 Tag\n",
    "# -------------------------------------------------\n",
    "df = pd.read_csv(csvdir/\"Tag.csv\", sep=\"|\")\n",
    "step = 50000\n",
    "i, j = 0, step\n",
    "while i < len(df):\n",
    "    dfx = df.iloc[i:j]\n",
    "    print(f\"{i:6}:{j:6}\")\n",
    "    with ConnectionContext(c.hana_host, c.hana_port, c.hana_userid, c.hana_password) as cc:\n",
    "        create_dataframe_from_pandas(cc, dfx, \"TAG\", schema=\"SOZMED\", append=True)\n",
    "    i , j = j, j+step\n",
    "print(\"ok\")    "
   ]
  },
  {
   "cell_type": "code",
   "execution_count": null,
   "metadata": {},
   "outputs": [],
   "source": [
    "# -------------------------------------------------\n",
    "# 03 Country\n",
    "# -------------------------------------------------\n",
    "df = pd.read_csv(csvdir/\"Country.csv\", sep=\"|\")\n",
    "step = 50000\n",
    "i, j = 0, step\n",
    "while i < len(df):\n",
    "    dfx = df.iloc[i:j]\n",
    "    print(f\"{i:6}:{j:6}\")\n",
    "    with ConnectionContext(c.hana_host, c.hana_port, c.hana_userid, c.hana_password) as cc:\n",
    "        create_dataframe_from_pandas(cc, dfx, \"COUNTRY\", schema=\"SOZMED\", append=True)\n",
    "    i , j = j, j+step\n",
    "print(\"ok\")    "
   ]
  },
  {
   "cell_type": "code",
   "execution_count": null,
   "metadata": {},
   "outputs": [],
   "source": [
    "# -------------------------------------------------\n",
    "# 04 City\n",
    "# -------------------------------------------------\n",
    "df = pd.read_csv(csvdir/\"City.csv\", sep=\"|\")\n",
    "step = 50000\n",
    "i, j = 0, step\n",
    "while i < len(df):\n",
    "    dfx = df.iloc[i:j]\n",
    "    print(f\"{i:6}:{j:6}\")\n",
    "    with ConnectionContext(c.hana_host, c.hana_port, c.hana_userid, c.hana_password) as cc:\n",
    "        create_dataframe_from_pandas(cc, dfx, \"CITY\", schema=\"SOZMED\", append=True)\n",
    "    i , j = j, j+step\n",
    "print(\"ok\")    "
   ]
  },
  {
   "cell_type": "code",
   "execution_count": null,
   "metadata": {},
   "outputs": [],
   "source": [
    "# -------------------------------------------------\n",
    "# 05 Company\n",
    "# -------------------------------------------------\n",
    "df = pd.read_csv(csvdir/\"Company.csv\", sep=\"|\")\n",
    "step = 50000\n",
    "i, j = 0, step\n",
    "while i < len(df):\n",
    "    dfx = df.iloc[i:j]\n",
    "    print(f\"{i:6}:{j:6}\")\n",
    "    with ConnectionContext(c.hana_host, c.hana_port, c.hana_userid, c.hana_password) as cc:\n",
    "        create_dataframe_from_pandas(cc, dfx, \"COMPANY\", schema=\"SOZMED\", append=True)\n",
    "    i , j = j, j+step\n",
    "print(\"ok\")    "
   ]
  },
  {
   "cell_type": "code",
   "execution_count": null,
   "metadata": {},
   "outputs": [],
   "source": [
    "# -------------------------------------------------\n",
    "# 06 University\n",
    "# -------------------------------------------------\n",
    "df = pd.read_csv(csvdir/\"University.csv\", sep=\"|\")\n",
    "step = 50000\n",
    "i, j = 0, step\n",
    "while i < len(df):\n",
    "    dfx = df.iloc[i:j]\n",
    "    print(f\"{i:6}:{j:6}\")\n",
    "    with ConnectionContext(c.hana_host, c.hana_port, c.hana_userid, c.hana_password) as cc:\n",
    "        create_dataframe_from_pandas(cc, dfx, \"UNIVERSITY\", schema=\"SOZMED\", append=True)\n",
    "    i , j = j, j+step\n",
    "print(\"ok\")    "
   ]
  },
  {
   "cell_type": "code",
   "execution_count": null,
   "metadata": {},
   "outputs": [],
   "source": [
    "# -------------------------------------------------\n",
    "# 07 Person\n",
    "# -------------------------------------------------\n",
    "df = pd.read_csv(csvdir/\"Person.csv\", sep=\"|\")\n",
    "step = 50000\n",
    "i, j = 0, step\n",
    "while i < len(df):\n",
    "    dfx = df.iloc[i:j]\n",
    "    print(f\"{i:6}:{j:6}\")\n",
    "    with ConnectionContext(c.hana_host, c.hana_port, c.hana_userid, c.hana_password) as cc:\n",
    "        create_dataframe_from_pandas(cc, dfx, \"PERSON\", schema=\"SOZMED\", append=True)\n",
    "    i , j = j, j+step\n",
    "print(\"ok\")    "
   ]
  },
  {
   "cell_type": "code",
   "execution_count": null,
   "metadata": {},
   "outputs": [],
   "source": [
    "# -------------------------------------------------\n",
    "# 08 Forum\n",
    "# -------------------------------------------------\n",
    "df = pd.read_csv(csvdir/\"Forum.csv\", sep=\"|\")\n",
    "step = 50000\n",
    "i, j = 0, step\n",
    "while i < len(df):\n",
    "    dfx = df.iloc[i:j]\n",
    "    print(f\"{i:6}:{j:6}\")\n",
    "    with ConnectionContext(c.hana_host, c.hana_port, c.hana_userid, c.hana_password) as cc:\n",
    "        create_dataframe_from_pandas(cc, dfx, \"FORUM\", schema=\"SOZMED\", append=True)\n",
    "    i , j = j, j+step\n",
    "print(\"ok\")    "
   ]
  },
  {
   "cell_type": "code",
   "execution_count": null,
   "metadata": {},
   "outputs": [],
   "source": [
    "# -------------------------------------------------\n",
    "# 09 Forum_hasMember_Person\n",
    "# -------------------------------------------------\n",
    "df = pd.read_csv(csvdir/\"Forum_hasMember_Person.csv\", sep=\"|\")\n",
    "step = 50000\n",
    "i, j = 0, step\n",
    "while i < len(df):\n",
    "    dfx = df.iloc[i:j]\n",
    "    print(f\"{i:6}:{j:6}\")\n",
    "    with ConnectionContext(c.hana_host, c.hana_port, c.hana_userid, c.hana_password) as cc:\n",
    "        create_dataframe_from_pandas(cc, dfx, \"FORUM_HASMEMBER_PERSON\", schema=\"SOZMED\", append=True)\n",
    "    i , j = j, j+step\n",
    "print(\"ok\")    "
   ]
  },
  {
   "cell_type": "code",
   "execution_count": null,
   "metadata": {},
   "outputs": [],
   "source": [
    "# -------------------------------------------------\n",
    "# 10 Forum_hasTag_Tag\n",
    "# -------------------------------------------------\n",
    "df = pd.read_csv(csvdir/\"Forum_hasTag_Tag.csv\", sep=\"|\")\n",
    "step = 50000\n",
    "i, j = 0, step\n",
    "while i < len(df):\n",
    "    dfx = df.iloc[i:j]\n",
    "    print(f\"{i:6}:{j:6}\")\n",
    "    with ConnectionContext(c.hana_host, c.hana_port, c.hana_userid, c.hana_password) as cc:\n",
    "        create_dataframe_from_pandas(cc, dfx, \"FORUM_HASTAG_TAG\", schema=\"SOZMED\", append=True)\n",
    "    i , j = j, j+step\n",
    "print(\"ok\")    "
   ]
  },
  {
   "cell_type": "code",
   "execution_count": null,
   "metadata": {},
   "outputs": [],
   "source": [
    "# -------------------------------------------------\n",
    "# 11 Person_hasInterest_Tag\n",
    "# -------------------------------------------------\n",
    "df = pd.read_csv(csvdir/\"Person_hasInterest_Tag.csv\", sep=\"|\")\n",
    "step = 50000\n",
    "i, j = 0, step\n",
    "while i < len(df):\n",
    "    dfx = df.iloc[i:j]\n",
    "    print(f\"{i:6}:{j:6}\")\n",
    "    with ConnectionContext(c.hana_host, c.hana_port, c.hana_userid, c.hana_password) as cc:\n",
    "        create_dataframe_from_pandas(cc, dfx, \"PERSON_HASINTEREST_TAG\", schema=\"SOZMED\", append=True)\n",
    "    i , j = j, j+step\n",
    "print(\"ok\")    "
   ]
  },
  {
   "cell_type": "code",
   "execution_count": null,
   "metadata": {},
   "outputs": [],
   "source": [
    "# -------------------------------------------------\n",
    "# 12 Person_studyAt_University\n",
    "# -------------------------------------------------\n",
    "df = pd.read_csv(csvdir/\"Person_studyAt_University.csv\", sep=\"|\")\n",
    "step = 50000\n",
    "i, j = 0, step\n",
    "while i < len(df):\n",
    "    dfx = df.iloc[i:j]\n",
    "    print(f\"{i:6}:{j:6}\")\n",
    "    with ConnectionContext(c.hana_host, c.hana_port, c.hana_userid, c.hana_password) as cc:\n",
    "        create_dataframe_from_pandas(cc, dfx, \"PERSON_STUDYAT_UNIVERSITY\", schema=\"SOZMED\", append=True)\n",
    "    i , j = j, j+step\n",
    "print(\"ok\")    "
   ]
  },
  {
   "cell_type": "code",
   "execution_count": null,
   "metadata": {},
   "outputs": [],
   "source": [
    "# -------------------------------------------------\n",
    "# 13 Person_workAt_Company\n",
    "# -------------------------------------------------\n",
    "df = pd.read_csv(csvdir/\"Person_workAt_Company.csv\", sep=\"|\")\n",
    "step = 50000\n",
    "i, j = 0, step\n",
    "while i < len(df):\n",
    "    dfx = df.iloc[i:j]\n",
    "    print(f\"{i:6}:{j:6}\")\n",
    "    with ConnectionContext(c.hana_host, c.hana_port, c.hana_userid, c.hana_password) as cc:\n",
    "        create_dataframe_from_pandas(cc, dfx, \"PERSON_WORKAT_COMPANY\", schema=\"SOZMED\", append=True)\n",
    "    i , j = j, j+step\n",
    "print(\"ok\")    "
   ]
  },
  {
   "cell_type": "code",
   "execution_count": null,
   "metadata": {},
   "outputs": [],
   "source": [
    "# -------------------------------------------------\n",
    "# 14 Person_knows_Person\n",
    "# -------------------------------------------------\n",
    "df = pd.read_csv(csvdir/\"Person_knows_Person.csv\", sep=\"|\")\n",
    "step = 50000\n",
    "i, j = 0, step\n",
    "while i < len(df):\n",
    "    dfx = df.iloc[i:j]\n",
    "    print(f\"{i:6}:{j:6}\")\n",
    "    with ConnectionContext(c.hana_host, c.hana_port, c.hana_userid, c.hana_password) as cc:\n",
    "        create_dataframe_from_pandas(cc, dfx, \"PERSON_KNOWS_PERSON\", schema=\"SOZMED\", append=True)\n",
    "    i , j = j, j+step\n",
    "print(\"ok\")    "
   ]
  },
  {
   "cell_type": "code",
   "execution_count": null,
   "metadata": {},
   "outputs": [],
   "source": [
    "# -------------------------------------------------\n",
    "# 15 Message\n",
    "# -------------------------------------------------\n",
    "df = pd.read_csv(csvdir/\"Message.csv\", sep=\"|\")\n",
    "step = 50000\n",
    "i, j = 0, step\n",
    "while i < len(df):\n",
    "    dfx = df.iloc[i:j]\n",
    "    print(f\"{i:6}:{j:6}\")\n",
    "    with ConnectionContext(c.hana_host, c.hana_port, c.hana_userid, c.hana_password) as cc:\n",
    "        create_dataframe_from_pandas(cc, dfx, \"MESSAGE\", schema=\"SOZMED\", append=True)\n",
    "    i , j = j, j+step\n",
    "print(\"ok\")    "
   ]
  },
  {
   "cell_type": "code",
   "execution_count": null,
   "metadata": {},
   "outputs": [],
   "source": [
    "# -------------------------------------------------\n",
    "# 16 Person_likes_Message\n",
    "# -------------------------------------------------\n",
    "df = pd.read_csv(csvdir/\"Person_likes_Message.csv\", sep=\"|\")\n",
    "step = 50000\n",
    "i, j = 0, step\n",
    "while i < len(df):\n",
    "    dfx = df.iloc[i:j]\n",
    "    print(f\"{i:6}:{j:6}\")\n",
    "    with ConnectionContext(c.hana_host, c.hana_port, c.hana_userid, c.hana_password) as cc:\n",
    "        create_dataframe_from_pandas(cc, dfx, \"PERSON_LIKES_MESSAGE\", schema=\"SOZMED\", append=True)\n",
    "    i , j = j, j+step\n",
    "print(\"ok\")    "
   ]
  },
  {
   "cell_type": "code",
   "execution_count": null,
   "metadata": {},
   "outputs": [],
   "source": [
    "# -------------------------------------------------\n",
    "# 17 Message_hasTag_Tag\n",
    "# -------------------------------------------------\n",
    "df = pd.read_csv(csvdir/\"Message_hasTag_Tag.csv\", sep=\"|\")\n",
    "step = 50000\n",
    "i, j = 0, step\n",
    "while i < len(df):\n",
    "    dfx = df.iloc[i:j]\n",
    "    print(f\"{i:6}:{j:6}\")\n",
    "    with ConnectionContext(c.hana_host, c.hana_port, c.hana_userid, c.hana_password) as cc:\n",
    "        create_dataframe_from_pandas(cc, dfx, \"MESSAGE_HASTAG_TAG\", schema=\"SOZMED\", append=True)\n",
    "    i , j = j, j+step\n",
    "print(\"ok\")    "
   ]
  },
  {
   "cell_type": "code",
   "execution_count": null,
   "metadata": {},
   "outputs": [],
   "source": []
  }
 ],
 "metadata": {
  "kernelspec": {
   "display_name": "base",
   "language": "python",
   "name": "python3"
  },
  "language_info": {
   "codemirror_mode": {
    "name": "ipython",
    "version": 3
   },
   "file_extension": ".py",
   "mimetype": "text/x-python",
   "name": "python",
   "nbconvert_exporter": "python",
   "pygments_lexer": "ipython3",
   "version": "3.10.9"
  },
  "orig_nbformat": 4
 },
 "nbformat": 4,
 "nbformat_minor": 2
}
