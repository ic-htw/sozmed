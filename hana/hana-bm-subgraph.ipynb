{
 "cells": [
  {
   "cell_type": "code",
   "execution_count": 1,
   "metadata": {},
   "outputs": [],
   "source": [
    "from pathlib import Path\n",
    "import pandas as pd\n",
    "from hana_ml import ConnectionContext\n",
    "from hana_ml.dataframe import create_dataframe_from_pandas\n",
    "import cred_hana as c"
   ]
  },
  {
   "cell_type": "code",
   "execution_count": 2,
   "metadata": {},
   "outputs": [],
   "source": [
    "def quote(s):\n",
    "  return f\"'{s}'\"\n",
    "\n",
    "def exe(sql):\n",
    "    with ConnectionContext(c.hana_host, c.hana_port, c.hana_userid, c.hana_password,currentSchema=\"SOZMED\") as cc:\n",
    "        return cc.sql(sql).collect()"
   ]
  },
  {
   "attachments": {},
   "cell_type": "markdown",
   "metadata": {},
   "source": [
    "## Q1\n",
    "817.1M 18,47 / 2,27"
   ]
  },
  {
   "cell_type": "code",
   "execution_count": 4,
   "metadata": {},
   "outputs": [
    {
     "data": {
      "text/html": [
       "<div>\n",
       "<style scoped>\n",
       "    .dataframe tbody tr th:only-of-type {\n",
       "        vertical-align: middle;\n",
       "    }\n",
       "\n",
       "    .dataframe tbody tr th {\n",
       "        vertical-align: top;\n",
       "    }\n",
       "\n",
       "    .dataframe thead th {\n",
       "        text-align: right;\n",
       "    }\n",
       "</style>\n",
       "<table border=\"1\" class=\"dataframe\">\n",
       "  <thead>\n",
       "    <tr style=\"text-align: right;\">\n",
       "      <th></th>\n",
       "      <th>COUNT(*)</th>\n",
       "    </tr>\n",
       "  </thead>\n",
       "  <tbody>\n",
       "    <tr>\n",
       "      <th>0</th>\n",
       "      <td>155615588</td>\n",
       "    </tr>\n",
       "  </tbody>\n",
       "</table>\n",
       "</div>"
      ],
      "text/plain": [
       "    COUNT(*)\n",
       "0  155615588"
      ]
     },
     "execution_count": 4,
     "metadata": {},
     "output_type": "execute_result"
    }
   ],
   "source": [
    "sql = f\"\"\"\n",
    "SELECT count(*)\n",
    "FROM Country\n",
    "JOIN City ON City.PartOfCountryId = Country.id\n",
    "JOIN Person ON Person.LocationCityId = City.id\n",
    "JOIN Forum_hasMember_Person ON Forum_hasMember_Person.personid = Person.id\n",
    "JOIN Forum ON Forum.id = Forum_hasMember_Person.forumid\n",
    "JOIN Message Post ON Post.ContainerForumId = Forum.id\n",
    "JOIN Message Comment ON Comment.ParentMessageId = Post.id\n",
    "JOIN Message_hasTag_Tag ON Message_hasTag_Tag.messageid = Comment.id\n",
    "JOIN Tag ON Tag.id = Message_hasTag_Tag.tagid\n",
    "JOIN TagClass ON Tag.TypeTagClassId  = TagClass.id;\n",
    "\"\"\"\n",
    "exe(sql) # 7.9s"
   ]
  },
  {
   "attachments": {},
   "cell_type": "markdown",
   "metadata": {},
   "source": [
    "## Q2\n",
    "3.3M 1,32 / 0,09"
   ]
  },
  {
   "cell_type": "code",
   "execution_count": 6,
   "metadata": {},
   "outputs": [
    {
     "data": {
      "text/html": [
       "<div>\n",
       "<style scoped>\n",
       "    .dataframe tbody tr th:only-of-type {\n",
       "        vertical-align: middle;\n",
       "    }\n",
       "\n",
       "    .dataframe tbody tr th {\n",
       "        vertical-align: top;\n",
       "    }\n",
       "\n",
       "    .dataframe thead th {\n",
       "        text-align: right;\n",
       "    }\n",
       "</style>\n",
       "<table border=\"1\" class=\"dataframe\">\n",
       "  <thead>\n",
       "    <tr style=\"text-align: right;\">\n",
       "      <th></th>\n",
       "      <th>COUNT(*)</th>\n",
       "    </tr>\n",
       "  </thead>\n",
       "  <tbody>\n",
       "    <tr>\n",
       "      <th>0</th>\n",
       "      <td>296644</td>\n",
       "    </tr>\n",
       "  </tbody>\n",
       "</table>\n",
       "</div>"
      ],
      "text/plain": [
       "   COUNT(*)\n",
       "0    296644"
      ]
     },
     "execution_count": 6,
     "metadata": {},
     "output_type": "execute_result"
    }
   ],
   "source": [
    "sql = f\"\"\"\n",
    "SELECT count(*)\n",
    "FROM Person_knows_Person pkp\n",
    "     JOIN Message Comment ON pkp.Person1Id = Comment.creatorpersonid\n",
    "     JOIN Message Post ON pkp.Person2Id = Post.creatorpersonid\n",
    "AND Post.ParentMessageId is null and Comment.parentmessageid = Post.id;\n",
    "\"\"\"\n",
    "exe(sql) # 0.5s"
   ]
  },
  {
   "attachments": {},
   "cell_type": "markdown",
   "metadata": {},
   "source": [
    "## Q3\n",
    "3.2M 15,60 / 0,38"
   ]
  },
  {
   "cell_type": "code",
   "execution_count": 8,
   "metadata": {},
   "outputs": [
    {
     "data": {
      "text/html": [
       "<div>\n",
       "<style scoped>\n",
       "    .dataframe tbody tr th:only-of-type {\n",
       "        vertical-align: middle;\n",
       "    }\n",
       "\n",
       "    .dataframe tbody tr th {\n",
       "        vertical-align: top;\n",
       "    }\n",
       "\n",
       "    .dataframe thead th {\n",
       "        text-align: right;\n",
       "    }\n",
       "</style>\n",
       "<table border=\"1\" class=\"dataframe\">\n",
       "  <thead>\n",
       "    <tr style=\"text-align: right;\">\n",
       "      <th></th>\n",
       "      <th>COUNT(*)</th>\n",
       "    </tr>\n",
       "  </thead>\n",
       "  <tbody>\n",
       "    <tr>\n",
       "      <th>0</th>\n",
       "      <td>0</td>\n",
       "    </tr>\n",
       "  </tbody>\n",
       "</table>\n",
       "</div>"
      ],
      "text/plain": [
       "   COUNT(*)\n",
       "0         0"
      ]
     },
     "execution_count": 8,
     "metadata": {},
     "output_type": "execute_result"
    }
   ],
   "source": [
    "sql = f\"\"\"\n",
    "SELECT count(*)\n",
    "FROM Country\n",
    "JOIN City AS CityA ON CityA.PartOfCountryId  = Country.id\n",
    "JOIN City AS CityB ON CityB.PartOfCountryId  = Country.id\n",
    "JOIN City AS CityC ON CityC.PartOfCountryId  = Country.id\n",
    "JOIN Person AS PersonA ON PersonA.LocationCityId  = CityA.id\n",
    "JOIN Person AS PersonB ON PersonB.LocationCityId  = CityB.id\n",
    "JOIN Person AS PersonC ON PersonC.LocationCityId  = CityC.id\n",
    "JOIN Person_knows_Person AS pkp1 ON pkp1.Person1Id = personA.id AND pkp1.Person2Id = personB.id\n",
    "JOIN Person_knows_Person AS pkp2 ON pkp2.Person1Id = personB.id AND pkp2.Person2Id = personC.id\n",
    "JOIN Person_knows_person AS pkp3 ON pkp3.Person1Id = personC.id AND pkp3.Person2Id = personA.id;\n",
    "\"\"\"\n",
    "exe(sql) # 3.5s"
   ]
  },
  {
   "attachments": {},
   "cell_type": "markdown",
   "metadata": {},
   "source": [
    "## Q4\n",
    "50.0M 2,52 / 0,91"
   ]
  },
  {
   "cell_type": "code",
   "execution_count": 10,
   "metadata": {},
   "outputs": [
    {
     "data": {
      "text/html": [
       "<div>\n",
       "<style scoped>\n",
       "    .dataframe tbody tr th:only-of-type {\n",
       "        vertical-align: middle;\n",
       "    }\n",
       "\n",
       "    .dataframe tbody tr th {\n",
       "        vertical-align: top;\n",
       "    }\n",
       "\n",
       "    .dataframe thead th {\n",
       "        text-align: right;\n",
       "    }\n",
       "</style>\n",
       "<table border=\"1\" class=\"dataframe\">\n",
       "  <thead>\n",
       "    <tr style=\"text-align: right;\">\n",
       "      <th></th>\n",
       "      <th>COUNT(*)</th>\n",
       "    </tr>\n",
       "  </thead>\n",
       "  <tbody>\n",
       "    <tr>\n",
       "      <th>0</th>\n",
       "      <td>9853666</td>\n",
       "    </tr>\n",
       "  </tbody>\n",
       "</table>\n",
       "</div>"
      ],
      "text/plain": [
       "   COUNT(*)\n",
       "0   9853666"
      ]
     },
     "execution_count": 10,
     "metadata": {},
     "output_type": "execute_result"
    }
   ],
   "source": [
    "sql = f\"\"\"\n",
    "SELECT count(*)\n",
    "FROM Message_hasTag_Tag\n",
    "JOIN Message ON Message.Id = Message_hasTag_Tag.MessageId\n",
    "JOIN Message Comment ON Comment.ParentMessageId = Message.Id\n",
    "JOIN Person ON Person.Id = Message.creatorpersonid \n",
    "JOIN Person_likes_Message ON Person_likes_Message.MessageId = Message.Id;\n",
    "\"\"\"\n",
    "exe(sql) # 1.2s"
   ]
  },
  {
   "attachments": {},
   "cell_type": "markdown",
   "metadata": {},
   "source": [
    "## Q5\n",
    "41.6M 3,37 / 0,48"
   ]
  },
  {
   "cell_type": "code",
   "execution_count": 13,
   "metadata": {},
   "outputs": [
    {
     "data": {
      "text/html": [
       "<div>\n",
       "<style scoped>\n",
       "    .dataframe tbody tr th:only-of-type {\n",
       "        vertical-align: middle;\n",
       "    }\n",
       "\n",
       "    .dataframe tbody tr th {\n",
       "        vertical-align: top;\n",
       "    }\n",
       "\n",
       "    .dataframe thead th {\n",
       "        text-align: right;\n",
       "    }\n",
       "</style>\n",
       "<table border=\"1\" class=\"dataframe\">\n",
       "  <thead>\n",
       "    <tr style=\"text-align: right;\">\n",
       "      <th></th>\n",
       "      <th>count</th>\n",
       "    </tr>\n",
       "  </thead>\n",
       "  <tbody>\n",
       "    <tr>\n",
       "      <th>0</th>\n",
       "      <td>9679562</td>\n",
       "    </tr>\n",
       "  </tbody>\n",
       "</table>\n",
       "</div>"
      ],
      "text/plain": [
       "     count\n",
       "0  9679562"
      ]
     },
     "execution_count": 13,
     "metadata": {},
     "output_type": "execute_result"
    }
   ],
   "source": [
    "sql = f\"\"\"\n",
    "SELECT count(*)\n",
    "FROM Message_hasTag_Tag as mht1\n",
    "JOIN Message Comment ON Comment.Id = mht1.MessageId\n",
    "JOIN Message ON Message.Id = Comment.ParentMessageId\n",
    "JOIN Message_hasTag_Tag mht2 on mht2.Messageid = Message.Id\n",
    "WHERE mht1.tagid != mht2.tagid;\n",
    "\"\"\"\n",
    "exe(sql) # 1.7s"
   ]
  },
  {
   "attachments": {},
   "cell_type": "markdown",
   "metadata": {},
   "source": [
    "## Q6\n",
    "6.3B 6,50 / 4,76"
   ]
  },
  {
   "cell_type": "code",
   "execution_count": 14,
   "metadata": {},
   "outputs": [
    {
     "data": {
      "text/html": [
       "<div>\n",
       "<style scoped>\n",
       "    .dataframe tbody tr th:only-of-type {\n",
       "        vertical-align: middle;\n",
       "    }\n",
       "\n",
       "    .dataframe tbody tr th {\n",
       "        vertical-align: top;\n",
       "    }\n",
       "\n",
       "    .dataframe thead th {\n",
       "        text-align: right;\n",
       "    }\n",
       "</style>\n",
       "<table border=\"1\" class=\"dataframe\">\n",
       "  <thead>\n",
       "    <tr style=\"text-align: right;\">\n",
       "      <th></th>\n",
       "      <th>count</th>\n",
       "    </tr>\n",
       "  </thead>\n",
       "  <tbody>\n",
       "    <tr>\n",
       "      <th>0</th>\n",
       "      <td>176011014</td>\n",
       "    </tr>\n",
       "  </tbody>\n",
       "</table>\n",
       "</div>"
      ],
      "text/plain": [
       "       count\n",
       "0  176011014"
      ]
     },
     "execution_count": 14,
     "metadata": {},
     "output_type": "execute_result"
    }
   ],
   "source": [
    "sql = f\"\"\"\n",
    "SELECT count(*)\n",
    "FROM Person_knows_Person pkp1\n",
    "JOIN Person_knows_Person pkp2 ON pkp1.Person2Id = pkp2.Person1Id AND pkp1.Person1Id != pkp2.Person2Id\n",
    "JOIN Person_hasInterest_Tag ON pkp2.Person2Id = Person_hasInterest_Tag.personid;\n",
    "\"\"\"\n",
    "exe(sql) # 2.2s"
   ]
  },
  {
   "attachments": {},
   "cell_type": "markdown",
   "metadata": {},
   "source": [
    "## Q7\n",
    "85.2M"
   ]
  },
  {
   "cell_type": "code",
   "execution_count": null,
   "metadata": {},
   "outputs": [],
   "source": [
    "sql = f\"\"\"\n",
    "SELECT count(*)\n",
    "FROM Message_hasTag_Tag mht\n",
    "JOIN Message m on m.Id = mht.MessageId\n",
    "JOIN Person p ON p.id = m.creatorpersonid\n",
    "LEFT JOIN Comment_replyOf_Message ON Comment_replyOf_Message.ParentMessageId = Message_hasTag_Tag.MessageId\n",
    "LEFT JOIN Person_likes_Message ON Person_likes_Message.MessageId = Message_hasTag_Tag.MessageId;\n",
    "\"\"\"\n",
    "exe(sql)"
   ]
  },
  {
   "attachments": {},
   "cell_type": "markdown",
   "metadata": {},
   "source": [
    "## Q8\n",
    "20.8M "
   ]
  },
  {
   "cell_type": "code",
   "execution_count": null,
   "metadata": {},
   "outputs": [],
   "source": [
    "sql = f\"\"\"\n",
    "SELECT count(*)\n",
    "FROM Message_hasTag_Tag\n",
    "JOIN Comment_replyOf_Message\n",
    "ON Message_hasTag_Tag.MessageId = Comment_replyOf_Message.\n",
    "ParentMessageId\n",
    "JOIN Comment_hasTag_Tag AS cht1\n",
    "ON Comment_replyOf_Message.CommentId = cht1.id\n",
    "LEFT JOIN Comment_hasTag_Tag AS cht2\n",
    "ON Message_hasTag_Tag.hasTag_Tag = cht2.hasTag_Tag\n",
    "AND Comment_replyOf_Message.CommentId = cht2.id\n",
    "WHERE Message_hasTag_Tag.hasTag_Tag != cht1.hasTag_Tag\n",
    "AND cht2.hasTag_Tag IS NULL;\n",
    "\"\"\"\n",
    "exe(sql)"
   ]
  },
  {
   "attachments": {},
   "cell_type": "markdown",
   "metadata": {},
   "source": [
    "## Q9\n",
    "6.0B 11,86 / 12,83"
   ]
  },
  {
   "cell_type": "code",
   "execution_count": 20,
   "metadata": {},
   "outputs": [
    {
     "data": {
      "text/html": [
       "<div>\n",
       "<style scoped>\n",
       "    .dataframe tbody tr th:only-of-type {\n",
       "        vertical-align: middle;\n",
       "    }\n",
       "\n",
       "    .dataframe tbody tr th {\n",
       "        vertical-align: top;\n",
       "    }\n",
       "\n",
       "    .dataframe thead th {\n",
       "        text-align: right;\n",
       "    }\n",
       "</style>\n",
       "<table border=\"1\" class=\"dataframe\">\n",
       "  <thead>\n",
       "    <tr style=\"text-align: right;\">\n",
       "      <th></th>\n",
       "      <th>count</th>\n",
       "    </tr>\n",
       "  </thead>\n",
       "  <tbody>\n",
       "    <tr>\n",
       "      <th>0</th>\n",
       "      <td>169140023</td>\n",
       "    </tr>\n",
       "  </tbody>\n",
       "</table>\n",
       "</div>"
      ],
      "text/plain": [
       "       count\n",
       "0  169140023"
      ]
     },
     "execution_count": 20,
     "metadata": {},
     "output_type": "execute_result"
    }
   ],
   "source": [
    "sql = f\"\"\"\n",
    "SELECT count(*)\n",
    "FROM Person_knows_Person pkp1\n",
    "JOIN Person_knows_Person pkp2 ON pkp1.Person2Id = pkp2.Person1Id AND pkp1.Person1Id != pkp2.Person2Id\n",
    "JOIN Person_hasInterest_Tag ON pkp2.Person2Id = Person_hasInterest_Tag.PersonId\n",
    "LEFT JOIN Person_knows_Person pkp3 ON pkp3.Person1Id = pkp1.Person1Id AND pkp3.Person2Id = pkp2.Person2Id\n",
    "WHERE pkp3.Person1Id IS NULL;\n",
    "\"\"\"\n",
    "exe(sql) # 8.8s"
   ]
  }
 ],
 "metadata": {
  "kernelspec": {
   "display_name": "base",
   "language": "python",
   "name": "python3"
  },
  "language_info": {
   "codemirror_mode": {
    "name": "ipython",
    "version": 3
   },
   "file_extension": ".py",
   "mimetype": "text/x-python",
   "name": "python",
   "nbconvert_exporter": "python",
   "pygments_lexer": "ipython3",
   "version": "3.10.9"
  },
  "orig_nbformat": 4,
  "vscode": {
   "interpreter": {
    "hash": "84befbdb8ec6d07ca1bac7b6c3fe6932c3fbd9e23c33bee5b4b4ab096ab33440"
   }
  }
 },
 "nbformat": 4,
 "nbformat_minor": 2
}
